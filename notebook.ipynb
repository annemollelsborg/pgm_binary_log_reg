{
 "cells": [
  {
   "cell_type": "code",
   "execution_count": 85,
   "metadata": {},
   "outputs": [],
   "source": [
    "# Load packages\n",
    "import pandas as pd\n",
    "import matplotlib.pyplot as plt\n",
    "import seaborn as sns\n",
    "import numpy as np\n",
    "import warnings\n",
    "warnings.filterwarnings(\"ignore\")\n",
    "import torch\n",
    "import pyro\n",
    "import pyro.distributions as dist\n",
    "from pyro.infer import SVI, Trace_ELBO, Predictive\n",
    "from pyro.optim import Adam, ClippedAdam\n",
    "from pyro.contrib.autoguide import AutoNormal\n",
    "from sklearn.metrics import confusion_matrix, ConfusionMatrixDisplay, classification_report\n",
    "from sklearn.model_selection import train_test_split"
   ]
  },
  {
   "cell_type": "markdown",
   "metadata": {},
   "source": [
    "### Load and process data"
   ]
  },
  {
   "cell_type": "code",
   "execution_count": 58,
   "metadata": {},
   "outputs": [
    {
     "name": "stdout",
     "output_type": "stream",
     "text": [
      "               Age    Attrition    DailyRate  DistanceFromHome    Education  \\\n",
      "count  1470.000000  1470.000000  1470.000000       1470.000000  1470.000000   \n",
      "mean     36.923810     0.161224   802.485714          9.192517     2.912925   \n",
      "std       9.135373     0.367863   403.509100          8.106864     1.024165   \n",
      "min      18.000000     0.000000   102.000000          1.000000     1.000000   \n",
      "25%      30.000000     0.000000   465.000000          2.000000     2.000000   \n",
      "50%      36.000000     0.000000   802.000000          7.000000     3.000000   \n",
      "75%      43.000000     0.000000  1157.000000         14.000000     4.000000   \n",
      "max      60.000000     1.000000  1499.000000         29.000000     5.000000   \n",
      "\n",
      "       EmployeeCount  EmployeeNumber  EnvironmentSatisfaction       Gender  \\\n",
      "count         1470.0     1470.000000              1470.000000  1470.000000   \n",
      "mean             1.0     1024.865306                 2.721769     0.400000   \n",
      "std              0.0      602.024335                 1.093082     0.490065   \n",
      "min              1.0        1.000000                 1.000000     0.000000   \n",
      "25%              1.0      491.250000                 2.000000     0.000000   \n",
      "50%              1.0     1020.500000                 3.000000     0.000000   \n",
      "75%              1.0     1555.750000                 4.000000     1.000000   \n",
      "max              1.0     2068.000000                 4.000000     1.000000   \n",
      "\n",
      "        HourlyRate  ...  JobRole_Laboratory Technician  JobRole_Manager  \\\n",
      "count  1470.000000  ...                    1470.000000      1470.000000   \n",
      "mean     65.891156  ...                       0.176190         0.069388   \n",
      "std      20.329428  ...                       0.381112         0.254199   \n",
      "min      30.000000  ...                       0.000000         0.000000   \n",
      "25%      48.000000  ...                       0.000000         0.000000   \n",
      "50%      66.000000  ...                       0.000000         0.000000   \n",
      "75%      83.750000  ...                       0.000000         0.000000   \n",
      "max     100.000000  ...                       1.000000         1.000000   \n",
      "\n",
      "       JobRole_Manufacturing Director  JobRole_Research Director  \\\n",
      "count                     1470.000000                1470.000000   \n",
      "mean                         0.098639                   0.054422   \n",
      "std                          0.298279                   0.226925   \n",
      "min                          0.000000                   0.000000   \n",
      "25%                          0.000000                   0.000000   \n",
      "50%                          0.000000                   0.000000   \n",
      "75%                          0.000000                   0.000000   \n",
      "max                          1.000000                   1.000000   \n",
      "\n",
      "       JobRole_Research Scientist  JobRole_Sales Executive  \\\n",
      "count                 1470.000000              1470.000000   \n",
      "mean                     0.198639                 0.221769   \n",
      "std                      0.399112                 0.415578   \n",
      "min                      0.000000                 0.000000   \n",
      "25%                      0.000000                 0.000000   \n",
      "50%                      0.000000                 0.000000   \n",
      "75%                      0.000000                 0.000000   \n",
      "max                      1.000000                 1.000000   \n",
      "\n",
      "       JobRole_Sales Representative  MaritalStatus_Divorced  \\\n",
      "count                   1470.000000             1470.000000   \n",
      "mean                       0.056463                0.222449   \n",
      "std                        0.230891                0.416033   \n",
      "min                        0.000000                0.000000   \n",
      "25%                        0.000000                0.000000   \n",
      "50%                        0.000000                0.000000   \n",
      "75%                        0.000000                0.000000   \n",
      "max                        1.000000                1.000000   \n",
      "\n",
      "       MaritalStatus_Married  MaritalStatus_Single  \n",
      "count            1470.000000           1470.000000  \n",
      "mean                0.457823              0.319728  \n",
      "std                 0.498387              0.466530  \n",
      "min                 0.000000              0.000000  \n",
      "25%                 0.000000              0.000000  \n",
      "50%                 0.000000              0.000000  \n",
      "75%                 1.000000              1.000000  \n",
      "max                 1.000000              1.000000  \n",
      "\n",
      "[8 rows x 54 columns]\n"
     ]
    }
   ],
   "source": [
    "# Load the data set\n",
    "data = pd.read_csv('data/dataset.csv')\n",
    "\n",
    "# Binary mapping\n",
    "binary_map = {\n",
    "    \"Attrition\": {\"No\": 0, \"Yes\": 1},\n",
    "    \"Gender\": {\"Male\": 0, \"Female\": 1},\n",
    "    \"OverTime\": {\"No\": 0, \"Yes\": 1},\n",
    "    \"Over18\": {\"N\": 0, \"Y\": 1}\n",
    "}\n",
    "\n",
    "for col, mapping in binary_map.items():\n",
    "    if col in data.columns:\n",
    "        data[col] = data[col].map(mapping)\n",
    "\n",
    "# One-hot encoding for multi-class categorical columns\n",
    "categorical_cols = [\"BusinessTravel\", \"Department\", \"EducationField\", \"JobRole\", \"MaritalStatus\"]\n",
    "data = pd.get_dummies(data, columns=categorical_cols)\n",
    "\n",
    "# Convert all boolean dummies to integers (so NumPy can process them)\n",
    "data = data.astype({col: int for col in data.select_dtypes(include='bool').columns})\n",
    "\n",
    "# Basic Summary Statistics\n",
    "print(data.describe())"
   ]
  },
  {
   "cell_type": "markdown",
   "metadata": {},
   "source": [
    "### Correlation"
   ]
  },
  {
   "cell_type": "code",
   "execution_count": 63,
   "metadata": {},
   "outputs": [
    {
     "name": "stdout",
     "output_type": "stream",
     "text": [
      "Features with correlation greater than 0.7:\n",
      "JobLevel - MonthlyIncome: 0.95\n",
      "JobLevel - TotalWorkingYears: 0.78\n",
      "MonthlyIncome - TotalWorkingYears: 0.77\n",
      "PercentSalaryHike - PerformanceRating: 0.77\n",
      "YearsAtCompany - YearsInCurrentRole: 0.76\n",
      "YearsAtCompany - YearsWithCurrManager: 0.77\n",
      "YearsInCurrentRole - YearsWithCurrManager: 0.71\n",
      "Department_Human Resources - JobRole_Human Resources: 0.90\n",
      "Department_Sales - JobRole_Sales Executive: 0.81\n"
     ]
    }
   ],
   "source": [
    "# Print list of features with more than 70% correlation\n",
    "def get_high_correlation_features(data, threshold=0.7):\n",
    "    corr = data.corr()\n",
    "    high_corr_var = np.where(corr > threshold)\n",
    "    high_corr_var = [(corr.columns[x], corr.columns[y], corr.iloc[x, y])\n",
    "                     for x, y in zip(*high_corr_var)\n",
    "                     if x != y and x < y]\n",
    "    return high_corr_var\n",
    "\n",
    "high_corr_features = get_high_correlation_features(data, threshold=0.7)\n",
    "\n",
    "print(\"Features with correlation greater than 0.7:\")\n",
    "for f1, f2, value in high_corr_features:\n",
    "    print(f\"{f1} - {f2}: {value:.2f}\")"
   ]
  },
  {
   "cell_type": "code",
   "execution_count": 66,
   "metadata": {},
   "outputs": [],
   "source": [
    "# Delete variables with high correlation \n",
    "data = data.drop(columns=[\n",
    "    \"MonthlyIncome\",\n",
    "    \"TotalWorkingYears\",\n",
    "    \"PerformanceRating\",\n",
    "    \"YearsInCurrentRole\",\n",
    "    \"YearsWithCurrManager\",\n",
    "    \"Department_Human Resources\",\n",
    "    \"Department_Sales\"\n",
    "])"
   ]
  },
  {
   "cell_type": "markdown",
   "metadata": {},
   "source": [
    "### Distribution of the target variable"
   ]
  },
  {
   "cell_type": "code",
   "execution_count": 67,
   "metadata": {},
   "outputs": [
    {
     "data": {
      "text/plain": [
       "Attrition\n",
       "0    0.838776\n",
       "1    0.161224\n",
       "Name: proportion, dtype: float64"
      ]
     },
     "execution_count": 67,
     "metadata": {},
     "output_type": "execute_result"
    }
   ],
   "source": [
    "data[\"Attrition\"].value_counts(normalize=True)"
   ]
  },
  {
   "cell_type": "markdown",
   "metadata": {},
   "source": [
    "### PPCA"
   ]
  },
  {
   "cell_type": "code",
   "execution_count": 68,
   "metadata": {},
   "outputs": [],
   "source": [
    "np.random.seed(42)\n",
    "\n",
    "# Drop column we are predicting \"Attrition\"\n",
    "target = data[\"Attrition\"]\n",
    "data = data.drop(columns=[\"Attrition\"])\n",
    "\n",
    "# Standardize safely\n",
    "X_np = data.to_numpy()\n",
    "X_mean = np.nanmean(X_np, axis=0)\n",
    "X_std = np.nanstd(X_np, axis=0)\n",
    "\n",
    "# Avoid division by zero\n",
    "X_std[X_std == 0] = 1.0\n",
    "\n",
    "X = (X_np - X_mean) / X_std\n",
    "X = np.nan_to_num(X, nan=0.0, posinf=0.0, neginf=0.0)\n",
    "X = torch.tensor(X, dtype=torch.float32)\n",
    "\n",
    "# Set latent dimension\n",
    "latent_dim = 2"
   ]
  },
  {
   "cell_type": "code",
   "execution_count": 71,
   "metadata": {},
   "outputs": [
    {
     "data": {
      "image/png": "[encoded data removed]",
      "text/plain": [
       "<Figure size 640x480 with 1 Axes>"
      ]
     },
     "metadata": {},
     "output_type": "display_data"
    },
    {
     "name": "stdout",
     "output_type": "stream",
     "text": [
      "Best latent dimension selected: 7\n"
     ]
    }
   ],
   "source": [
    "# Define PPCA model\n",
    "def ppca_model(X, latent_dim):\n",
    "    N, D = X.shape\n",
    "    W = pyro.sample(\"W\", dist.Normal(0, 1).expand([D, latent_dim]).to_event(2))\n",
    "    sigma  = pyro.sample(\"sigma\",  dist.HalfCauchy(1)) \n",
    "    \n",
    "    with pyro.plate(\"data\", N):\n",
    "        z = pyro.sample(\"z\", dist.Normal(0, 1).expand([latent_dim]).to_event(1))\n",
    "        loc = torch.matmul(z, W.T)\n",
    "        pyro.sample(\"obs\", dist.Normal(loc, sigma).to_event(1), obs=X)\n",
    "\n",
    "# Search for best latent dimension\n",
    "best_latent_dim = None\n",
    "best_elbo = float('-inf')\n",
    "best_z_loc = None\n",
    "\n",
    "elbos = []\n",
    "dims = list(range(1, 11))  # Dimensions from 1 to 10\n",
    "\n",
    "for latent_dim in dims:\n",
    "    pyro.clear_param_store()\n",
    "    \n",
    "    def model_wrapped(X):\n",
    "        return ppca_model(X, latent_dim)\n",
    "\n",
    "    guide = AutoNormal(model_wrapped)\n",
    "    optimizer = Adam({\"lr\": 0.01})\n",
    "    svi = SVI(model_wrapped, guide, optimizer, loss=Trace_ELBO())\n",
    "    \n",
    "    num_steps = 1000\n",
    "    final_loss = None\n",
    "    for step in range(num_steps):\n",
    "        loss = svi.step(X)\n",
    "        final_loss = loss\n",
    "    elbo = -final_loss\n",
    "    elbos.append(elbo)\n",
    "\n",
    "    if elbo > best_elbo:\n",
    "        best_elbo = elbo\n",
    "        best_latent_dim = latent_dim\n",
    "        best_z_loc = guide(X)[\"z\"].detach().numpy()\n",
    "\n",
    "# Plot ELBO vs latent dimensions\n",
    "plt.plot(dims, elbos, marker='o')\n",
    "plt.xlabel('Latent Dimensions')\n",
    "plt.ylabel('ELBO')\n",
    "plt.title('ELBO vs Latent Dimensionality')\n",
    "plt.grid(True)\n",
    "plt.show()\n",
    "\n",
    "print(f\"Best latent dimension selected: {best_latent_dim}\")\n",
    "\n",
    "# Merge with target\n",
    "reduced_df = pd.DataFrame(best_z_loc, columns=[f\"z{i+1}\" for i in range(best_latent_dim)])\n",
    "reduced_df[\"Attrition\"] = target.values"
   ]
  },
  {
   "cell_type": "markdown",
   "metadata": {},
   "source": [
    "# BLR"
   ]
  },
  {
   "cell_type": "code",
   "execution_count": 73,
   "metadata": {},
   "outputs": [
    {
     "name": "stdout",
     "output_type": "stream",
     "text": [
      "Unique values in y (before training): [-2 -1  0  1  2  3]\n",
      "Any non-binary y values? True\n",
      "X shape: (1470, 4)\n",
      "y shape: (1470,)\n",
      "ind shape: (1470,)\n",
      "num train: 970\n",
      "num test: 500\n"
     ]
    }
   ],
   "source": [
    "## binary logistic regression, using PPCA data set\n",
    "\n",
    "palette = itertools.cycle(sns.color_palette())\n",
    "\n",
    "np.random.seed(42) # fix random generator seed (for reproducibility of results)\n",
    "\n",
    "X = reduced_df.iloc[:, :4].values\n",
    "y = reduced_df.iloc[:, 4].astype(int).values\n",
    "print(\"Unique values in y (before training):\", np.unique(y))\n",
    "print(\"Any non-binary y values?\", np.any((y != 0) & (y != 1)))\n",
    "ind = y.copy()\n",
    "\n",
    "print(\"X shape:\", X.shape)\n",
    "print(\"y shape:\", y.shape)\n",
    "print(\"ind shape:\", ind.shape)\n",
    "\n",
    "train_perc = 0.66 # percentage of training data\n",
    "split_point = int(train_perc*len(y))\n",
    "perm = np.random.permutation(len(y)) # we also randomize the dataset\n",
    "ix_train = perm[:split_point]\n",
    "ix_test = perm[split_point:]\n",
    "X_train = X[ix_train,:]\n",
    "X_test = X[ix_test,:]\n",
    "y_train = y[ix_train]\n",
    "y_test = y[ix_test]\n",
    "print(\"num train: %d\" % len(y_train))\n",
    "print(\"num test: %d\" % len(y_test))\n",
    "\n",
    "epsilon = 1e-6\n",
    "p = y_train.mean().item()\n",
    "p = np.clip(p, epsilon, 1 - epsilon)\n",
    "log_odds = np.log(p / (1 - p))"
   ]
  },
  {
   "cell_type": "code",
   "execution_count": 75,
   "metadata": {},
   "outputs": [
    {
     "data": {
      "image/png": "[encoded data removed]",
      "text/plain": [
       "<Figure size 640x480 with 1 Axes>"
      ]
     },
     "metadata": {},
     "output_type": "display_data"
    },
    {
     "name": "stdout",
     "output_type": "stream",
     "text": [
      "[Step 0] ELBO: 724.97\n",
      "[Step 1000] ELBO: 652.48\n",
      "[Step 2000] ELBO: 650.00\n",
      "[Step 3000] ELBO: 650.09\n",
      "[Step 4000] ELBO: 650.26\n",
      "[Step 5000] ELBO: 649.83\n",
      "[Step 6000] ELBO: 649.90\n",
      "[Step 7000] ELBO: 650.09\n",
      "[Step 8000] ELBO: 649.93\n",
      "[Step 9000] ELBO: 649.92\n",
      "[Step 10000] ELBO: 650.04\n",
      "[Step 11000] ELBO: 650.06\n",
      "[Step 12000] ELBO: 649.85\n",
      "[Step 13000] ELBO: 650.22\n",
      "[Step 14000] ELBO: 649.38\n",
      "[Step 15000] ELBO: 650.01\n",
      "[Step 16000] ELBO: 649.89\n",
      "[Step 17000] ELBO: 649.69\n",
      "[Step 18000] ELBO: 649.94\n",
      "[Step 19000] ELBO: 649.94\n",
      "[Step 20000] ELBO: 650.16\n",
      "[Step 21000] ELBO: 650.00\n",
      "[Step 22000] ELBO: 649.98\n",
      "[Step 23000] ELBO: 650.32\n",
      "[Step 24000] ELBO: 650.30\n",
      "[Step 25000] ELBO: 650.09\n",
      "[Step 26000] ELBO: 650.06\n",
      "[Step 27000] ELBO: 650.07\n",
      "[Step 28000] ELBO: 650.33\n",
      "[Step 29000] ELBO: 649.66\n",
      "[Step 30000] ELBO: 649.99\n",
      "[Step 31000] ELBO: 649.81\n",
      "[Step 32000] ELBO: 650.29\n",
      "[Step 33000] ELBO: 649.83\n",
      "[Step 34000] ELBO: 650.10\n",
      "[Step 35000] ELBO: 649.98\n",
      "[Step 36000] ELBO: 649.87\n",
      "[Step 37000] ELBO: 650.10\n",
      "[Step 38000] ELBO: 649.88\n",
      "[Step 39000] ELBO: 650.11\n",
      "beta_samples shape: torch.Size([1000, 4])\n",
      "Test Accuracy: 0.460\n"
     ]
    },
    {
     "data": {
      "image/png": "[encoded data removed]",
      "text/plain": [
       "<Figure size 640x480 with 2 Axes>"
      ]
     },
     "metadata": {},
     "output_type": "display_data"
    }
   ],
   "source": [
    "# Model definition\n",
    "def model(X, n_cat, y=None):\n",
    "    n_features = X.shape[1]\n",
    "\n",
    "    beta = pyro.sample(\"beta\", dist.Normal(0., 1.).expand([n_features, 1]).to_event(2)) # Priors\n",
    "    intercept = pyro.sample(\"intercept\", dist.Normal(log_odds, 1.0)) # Intercept prior guided by class balance\n",
    "    logits = X @ beta + intercept  # shape: (N, 1), input features to the bernouli\n",
    "\n",
    "    with pyro.plate(\"data\", X.shape[0]):\n",
    "        y = pyro.sample(\"y\", dist.Bernoulli(logits=logits.squeeze(-1)), obs=y)\n",
    "    \n",
    "    return y\n",
    "\n",
    "X_train = torch.tensor(X_train).float()\n",
    "y_train = torch.tensor(y_train).bool()\n",
    "X_test = torch.tensor(X_test).float()\n",
    "y_test = torch.tensor(y_test).bool()\n",
    "\n",
    "prior_pred = Predictive(model, num_samples=1000)\n",
    "prior_samples = prior_pred(X_test, n_cat=None, y=None)\n",
    "logits_prior = X_test @ prior_samples[\"beta\"].mean(0) + prior_samples[\"intercept\"].mean()\n",
    "probs_prior = torch.sigmoid(logits_prior)\n",
    "\n",
    "plt.hist(probs_prior.detach().numpy().flatten(), bins=30, alpha=0.7)\n",
    "plt.title(\"Prior Predictive Distribution of Attrition Probability\")\n",
    "plt.xlabel(\"Predicted Probability\")\n",
    "plt.ylabel(\"Frequency\")\n",
    "plt.grid(True)\n",
    "plt.show()\n",
    "\n",
    "# Clear previous state\n",
    "pyro.clear_param_store()\n",
    "\n",
    "# Define guide\n",
    "guide = AutoNormal(model)\n",
    "\n",
    "# Optimizer and ELBO\n",
    "optimizer = ClippedAdam({\"lr\": 0.001})\n",
    "elbo = Trace_ELBO()\n",
    "svi = SVI(model, guide, optimizer, loss=elbo)\n",
    "\n",
    "# Training loop\n",
    "n_steps = 40000\n",
    "for step in range(n_steps):\n",
    "    loss = svi.step(X_train, n_cat=None, y=y_train.float())\n",
    "    if step % 1000 == 0:\n",
    "        print(f\"[Step {step}] ELBO: {loss:.2f}\")\n",
    "\n",
    "predictive = Predictive(model, guide=guide, num_samples=1000, return_sites=(\"beta\",))\n",
    "samples = predictive(X_test, n_cat=None, y=None)  # no y because we want predictions\n",
    "\n",
    "beta_samples = samples[\"beta\"].detach().squeeze()  # shape: (1000, D)\n",
    "print(\"beta_samples shape:\", beta_samples.shape)\n",
    "\n",
    "beta_mean = beta_samples.mean(0)  # shape: (D,)\n",
    "\n",
    "logits_test = X_test @ beta_mean\n",
    "probs_test = torch.sigmoid(logits_test)\n",
    "y_pred = (probs_test > 0.5).int()\n",
    "\n",
    "accuracy = (y_pred == y_test.int()).float().mean()\n",
    "print(f\"Test Accuracy: {accuracy:.3f}\")\n",
    "\n",
    "cm = confusion_matrix(y_test.numpy(), y_pred.numpy())\n",
    "disp = ConfusionMatrixDisplay(confusion_matrix=cm, display_labels=[\"No Attrition\", \"Attrition\"])\n",
    "disp.plot(cmap='Blues')\n",
    "plt.title(\"Confusion Matrix (AutoNormal)\")\n",
    "plt.show()"
   ]
  },
  {
   "cell_type": "markdown",
   "metadata": {},
   "source": [
    "### COMBINED"
   ]
  },
  {
   "cell_type": "code",
   "execution_count": 82,
   "metadata": {},
   "outputs": [
    {
     "name": "stdout",
     "output_type": "stream",
     "text": [
      "X_train shape: torch.Size([970, 46]), y_train shape: torch.Size([970])\n",
      "[Step 0] ELBO: 75744.86\n",
      "[Step 1000] ELBO: 61468.72\n",
      "[Step 2000] ELBO: 61468.71\n",
      "[Step 3000] ELBO: 61465.31\n",
      "[Step 4000] ELBO: 61463.12\n",
      "[Step 5000] ELBO: 61477.59\n",
      "[Step 6000] ELBO: 61480.50\n",
      "[Step 7000] ELBO: 61442.34\n",
      "[Step 8000] ELBO: 61436.23\n",
      "[Step 9000] ELBO: 61425.01\n",
      "[Step 10000] ELBO: 61447.64\n",
      "[Step 11000] ELBO: 61427.29\n",
      "[Step 12000] ELBO: 61445.71\n",
      "[Step 13000] ELBO: 61453.53\n",
      "[Step 14000] ELBO: 61430.41\n",
      "[Step 15000] ELBO: 61431.10\n",
      "[Step 16000] ELBO: 61452.85\n",
      "[Step 17000] ELBO: 61415.07\n",
      "[Step 18000] ELBO: 61417.55\n",
      "[Step 19000] ELBO: 61415.90\n",
      "[Step 20000] ELBO: 61437.72\n",
      "[Step 21000] ELBO: 61453.61\n",
      "[Step 22000] ELBO: 61442.76\n",
      "[Step 23000] ELBO: 61462.00\n",
      "[Step 24000] ELBO: 61395.64\n",
      "[Step 25000] ELBO: 61450.32\n",
      "[Step 26000] ELBO: 61457.84\n",
      "[Step 27000] ELBO: 61442.84\n",
      "[Step 28000] ELBO: 61406.87\n",
      "[Step 29000] ELBO: 61429.53\n",
      "[Step 30000] ELBO: 61436.66\n",
      "[Step 31000] ELBO: 61410.14\n",
      "[Step 32000] ELBO: 61421.62\n",
      "[Step 33000] ELBO: 61449.15\n",
      "[Step 34000] ELBO: 61422.92\n",
      "[Step 35000] ELBO: 61478.31\n",
      "[Step 36000] ELBO: 61443.67\n",
      "[Step 37000] ELBO: 61446.73\n",
      "[Step 38000] ELBO: 61428.92\n",
      "[Step 39000] ELBO: 61414.26\n",
      "Test Accuracy: 0.858\n"
     ]
    },
    {
     "data": {
      "image/png": "[encoded data removed]",
      "text/plain": [
       "<Figure size 640x480 with 2 Axes>"
      ]
     },
     "metadata": {},
     "output_type": "display_data"
    }
   ],
   "source": [
    "np.random.seed(42)\n",
    "\n",
    "# Standardize safely\n",
    "X_np = data.to_numpy()\n",
    "X_mean = np.nanmean(X_np, axis=0)\n",
    "X_std = np.nanstd(X_np, axis=0)\n",
    "X_std[X_std == 0] = 1.0\n",
    "X_np = (X_np - X_mean) / X_std\n",
    "X_np = np.nan_to_num(X_np, nan=0.0, posinf=0.0, neginf=0.0)\n",
    "\n",
    "# Split the data\n",
    "X_train_np, X_test_np, y_train_np, y_test_np = train_test_split(X_np, target, train_size=0.66, random_state=42)\n",
    "\n",
    "X_train = torch.tensor(X_train_np, dtype=torch.float32)\n",
    "y_train = torch.tensor(y_train_np.to_numpy(), dtype=torch.float32)\n",
    "X_test = torch.tensor(X_test_np, dtype=torch.float32)\n",
    "y_test = torch.tensor(y_test_np.to_numpy(), dtype=torch.float32)\n",
    "\n",
    "N_train, D = X_train.shape\n",
    "latent_dim = 7  # Known from running PPCA seperatelt\n",
    "\n",
    "print(f\"X_train shape: {X_train.shape}, y_train shape: {y_train.shape}\")\n",
    "\n",
    "def combined_ppca_blr_model(X, y=None):\n",
    "    N, D = X.shape\n",
    "    \n",
    "    # PPCA parameters\n",
    "    W = pyro.sample(\"W\", dist.Normal(0, 1).expand([D, latent_dim]).to_event(2))\n",
    "    sigma = pyro.sample(\"sigma\", dist.HalfCauchy(1))\n",
    "    \n",
    "    # Logistic regression parameters\n",
    "    beta = pyro.sample(\"beta\", dist.Normal(0., 1.).expand([latent_dim]).to_event(1))\n",
    "    intercept = pyro.sample(\"intercept\", dist.Normal(0., 1.))\n",
    "    \n",
    "    with pyro.plate(\"data\", N):\n",
    "        z = pyro.sample(\"z\", dist.Normal(0, 1).expand([latent_dim]).to_event(1))\n",
    "        \n",
    "        # Generate X\n",
    "        loc = torch.matmul(z, W.mT)\n",
    "        pyro.sample(\"obs_X\", dist.Normal(loc, sigma).to_event(1), obs=X)\n",
    "        \n",
    "        # Generate y\n",
    "        logits = (z * beta).sum(-1) + intercept\n",
    "        pyro.sample(\"obs_y\", dist.Bernoulli(logits=logits), obs=y)\n",
    "\n",
    "def ppca_encoder(X, W, sigma):\n",
    "    D, latent_dim = W.shape\n",
    "    N = X.shape[0]\n",
    "    WtW = W.T @ W\n",
    "    cov_z_inv = WtW + sigma**2 * torch.eye(latent_dim)\n",
    "    cov_z = torch.inverse(cov_z_inv)\n",
    "    z_mean = (cov_z @ W.T @ X.T).T\n",
    "    return z_mean\n",
    "\n",
    "pyro.clear_param_store()\n",
    "guide = AutoNormal(combined_ppca_blr_model)\n",
    "optimizer = Adam({\"lr\": 0.01})\n",
    "svi = SVI(combined_ppca_blr_model, guide, optimizer, loss=Trace_ELBO())\n",
    "\n",
    "num_steps = 40000\n",
    "for step in range(num_steps):\n",
    "    loss = svi.step(X_train, y_train)\n",
    "    if step % 1000 == 0:\n",
    "        print(f\"[Step {step}] ELBO: {loss:.2f}\")\n",
    "\n",
    "# Posterior inference using the guide (train set)\n",
    "posterior_samples = guide(X_train, y_train)\n",
    "W_mean = posterior_samples['W']\n",
    "sigma_mean = posterior_samples['sigma']\n",
    "beta_mean = posterior_samples['beta']\n",
    "intercept_mean = posterior_samples['intercept']\n",
    "\n",
    "# Use ppca_encoder for z_test\n",
    "z_test_encoded = ppca_encoder(X_test, W_mean, sigma_mean)\n",
    "\n",
    "# Predict on test set\n",
    "logits_test = (z_test_encoded * beta_mean).sum(-1) + intercept_mean\n",
    "probs_test = torch.sigmoid(logits_test)\n",
    "y_pred_test = (probs_test > 0.5).int()\n",
    "\n",
    "# Accuracy on test set\n",
    "accuracy_test = (y_pred_test == y_test.int()).float().mean()\n",
    "print(f\"Test Accuracy: {accuracy_test:.3f}\")\n",
    "\n",
    "# Confusion matrix for test set\n",
    "from sklearn.metrics import confusion_matrix, ConfusionMatrixDisplay\n",
    "cm = confusion_matrix(y_test.numpy(), y_pred_test.numpy())\n",
    "disp = ConfusionMatrixDisplay(confusion_matrix=cm, display_labels=[\"No Attrition\", \"Attrition\"])\n",
    "disp.plot(cmap='Blues')\n",
    "plt.title(\"Confusion Matrix (Test Set)\")\n",
    "plt.show()"
   ]
  },
  {
   "cell_type": "code",
   "execution_count": 86,
   "metadata": {},
   "outputs": [
    {
     "name": "stdout",
     "output_type": "stream",
     "text": [
      "              precision    recall  f1-score   support\n",
      "\n",
      "No Attrition       0.86      0.99      0.92       429\n",
      "   Attrition       0.50      0.06      0.10        71\n",
      "\n",
      "    accuracy                           0.86       500\n",
      "   macro avg       0.68      0.52      0.51       500\n",
      "weighted avg       0.81      0.86      0.81       500\n",
      "\n"
     ]
    }
   ],
   "source": [
    "print(classification_report(y_test.numpy(), y_pred_test.numpy(), target_names=[\"No Attrition\", \"Attrition\"]))"
   ]
  }
 ],
 "metadata": {
  "kernelspec": {
   "display_name": "Python 3",
   "language": "python",
   "name": "python3"
  },
  "language_info": {
   "codemirror_mode": {
    "name": "ipython",
    "version": 3
   },
   "file_extension": ".py",
   "mimetype": "text/x-python",
   "name": "python",
   "nbconvert_exporter": "python",
   "pygments_lexer": "ipython3",
   "version": "3.9.6"
  },
  "orig_nbformat": 4
 },
 "nbformat": 4,
 "nbformat_minor": 2
}
