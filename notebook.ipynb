{
 "cells": [
  {
   "cell_type": "code",
   "execution_count": 14,
   "metadata": {},
   "outputs": [],
   "source": [
    "# Load packages\n",
    "\n",
    "import pandas as pd\n",
    "import matplotlib.pyplot as plt\n",
    "import seaborn as sns\n",
    "import numpy as np\n",
    "import os\n",
    "import warnings\n",
    "warnings.filterwarnings(\"ignore\")\n",
    "\n",
    "import pandas as pd\n",
    "import numpy as np\n",
    "import torch\n",
    "import pyro\n",
    "import pyro.distributions as dist\n",
    "from pyro.infer import SVI, Trace_ELBO\n",
    "from pyro.optim import Adam\n",
    "from pyro.contrib.autoguide import AutoNormal\n",
    "import matplotlib.pyplot as plt\n",
    "\n",
    "import numpy as np\n",
    "import pandas as pd\n",
    "from matplotlib import pyplot as plt\n",
    "from sklearn import linear_model\n",
    "import seaborn as sns\n",
    "import torch\n",
    "import pyro\n",
    "import pyro.distributions as dist\n",
    "from pyro.contrib.autoguide import AutoDiagonalNormal, AutoMultivariateNormal\n",
    "from pyro.infer import MCMC, NUTS, HMC, SVI, Trace_ELBO\n",
    "from pyro.optim import Adam, ClippedAdam\n",
    "import itertools\n",
    "from pyro.infer.autoguide import AutoMultivariateNormal\n",
    "from pyro.infer.autoguide import AutoNormal\n",
    "from pyro.infer import Predictive\n",
    "from sklearn.metrics import confusion_matrix, ConfusionMatrixDisplay\n",
    "from pyro.infer import Predictive\n",
    "\n",
    "import pandas as pd\n",
    "import numpy as np\n",
    "import torch\n",
    "import pyro\n",
    "import pyro.distributions as dist\n",
    "from pyro.infer import SVI, Trace_ELBO\n",
    "from pyro.optim import Adam\n",
    "from pyro.contrib.autoguide import AutoNormal\n",
    "import matplotlib.pyplot as plt\n",
    "from sklearn.model_selection import train_test_split\n",
    "\n",
    "\n",
    "\n"
   ]
  },
  {
   "cell_type": "code",
   "execution_count": 8,
   "metadata": {},
   "outputs": [],
   "source": [
    "# Load the data set'\n",
    "data = pd.read_csv('data/dataset.csv')\n",
    "\n",
    "# Binary mapping\n",
    "binary_map = {\n",
    "    \"Gender\": {\"Male\": 0, \"Female\": 1},\n",
    "    \"OverTime\": {\"No\": 0, \"Yes\": 1},\n",
    "    \"Over18\": {\"N\": 0, \"Y\": 1}\n",
    "}\n",
    "\n",
    "for col, mapping in binary_map.items():\n",
    "    if col in data.columns:\n",
    "        data[col] = data[col].map(mapping)\n",
    "\n",
    "# One-hot encoding for multi-class categorical columns\n",
    "categorical_cols = [\"BusinessTravel\", \"Department\", \"EducationField\", \"JobRole\", \"MaritalStatus\"]\n",
    "data = pd.get_dummies(data, columns=categorical_cols)\n",
    "# Convert all boolean (True/False) columns to integers (0/1)\n",
    "data = data.astype({col: int for col in data.select_dtypes(include='bool').columns})"
   ]
  },
  {
   "cell_type": "code",
   "execution_count": 9,
   "metadata": {},
   "outputs": [
    {
     "name": "stdout",
     "output_type": "stream",
     "text": [
      "   Age Attrition  DailyRate  DistanceFromHome  Education  EmployeeCount  \\\n",
      "0   41       Yes       1102                 1          2              1   \n",
      "1   49        No        279                 8          1              1   \n",
      "2   37       Yes       1373                 2          2              1   \n",
      "3   33        No       1392                 3          4              1   \n",
      "4   27        No        591                 2          1              1   \n",
      "\n",
      "   EmployeeNumber  EnvironmentSatisfaction  Gender  HourlyRate  ...  \\\n",
      "0               1                        2       1          94  ...   \n",
      "1               2                        3       0          61  ...   \n",
      "2               4                        4       0          92  ...   \n",
      "3               5                        4       1          56  ...   \n",
      "4               7                        1       0          40  ...   \n",
      "\n",
      "   JobRole_Laboratory Technician  JobRole_Manager  \\\n",
      "0                              0                0   \n",
      "1                              0                0   \n",
      "2                              1                0   \n",
      "3                              0                0   \n",
      "4                              1                0   \n",
      "\n",
      "   JobRole_Manufacturing Director  JobRole_Research Director  \\\n",
      "0                               0                          0   \n",
      "1                               0                          0   \n",
      "2                               0                          0   \n",
      "3                               0                          0   \n",
      "4                               0                          0   \n",
      "\n",
      "   JobRole_Research Scientist  JobRole_Sales Executive  \\\n",
      "0                           0                        1   \n",
      "1                           1                        0   \n",
      "2                           0                        0   \n",
      "3                           1                        0   \n",
      "4                           0                        0   \n",
      "\n",
      "   JobRole_Sales Representative  MaritalStatus_Divorced  \\\n",
      "0                             0                       0   \n",
      "1                             0                       0   \n",
      "2                             0                       0   \n",
      "3                             0                       0   \n",
      "4                             0                       0   \n",
      "\n",
      "   MaritalStatus_Married  MaritalStatus_Single  \n",
      "0                      0                     1  \n",
      "1                      1                     0  \n",
      "2                      0                     1  \n",
      "3                      1                     0  \n",
      "4                      1                     0  \n",
      "\n",
      "[5 rows x 54 columns]\n",
      "(1470, 54)\n"
     ]
    }
   ],
   "source": [
    "# save the data set to a csv file\n",
    "data.to_csv('data/data_processed.csv', index=False)\n",
    "\n",
    "# Print the first 5 rows of the data set\n",
    "print(data.head())\n",
    "# Print the shape of the data set\n",
    "print(data.shape)"
   ]
  },
  {
   "cell_type": "code",
   "execution_count": 4,
   "metadata": {},
   "outputs": [
    {
     "name": "stdout",
     "output_type": "stream",
     "text": [
      "               Age    DailyRate  DistanceFromHome    Education  EmployeeCount  \\\n",
      "count  1470.000000  1470.000000       1470.000000  1470.000000         1470.0   \n",
      "mean     36.923810   802.485714          9.192517     2.912925            1.0   \n",
      "std       9.135373   403.509100          8.106864     1.024165            0.0   \n",
      "min      18.000000   102.000000          1.000000     1.000000            1.0   \n",
      "25%      30.000000   465.000000          2.000000     2.000000            1.0   \n",
      "50%      36.000000   802.000000          7.000000     3.000000            1.0   \n",
      "75%      43.000000  1157.000000         14.000000     4.000000            1.0   \n",
      "max      60.000000  1499.000000         29.000000     5.000000            1.0   \n",
      "\n",
      "       EmployeeNumber  EnvironmentSatisfaction       Gender   HourlyRate  \\\n",
      "count     1470.000000              1470.000000  1470.000000  1470.000000   \n",
      "mean      1024.865306                 2.721769     0.400000    65.891156   \n",
      "std        602.024335                 1.093082     0.490065    20.329428   \n",
      "min          1.000000                 1.000000     0.000000    30.000000   \n",
      "25%        491.250000                 2.000000     0.000000    48.000000   \n",
      "50%       1020.500000                 3.000000     0.000000    66.000000   \n",
      "75%       1555.750000                 4.000000     1.000000    83.750000   \n",
      "max       2068.000000                 4.000000     1.000000   100.000000   \n",
      "\n",
      "       JobInvolvement  ...  JobRole_Laboratory Technician  JobRole_Manager  \\\n",
      "count     1470.000000  ...                    1470.000000      1470.000000   \n",
      "mean         2.729932  ...                       0.176190         0.069388   \n",
      "std          0.711561  ...                       0.381112         0.254199   \n",
      "min          1.000000  ...                       0.000000         0.000000   \n",
      "25%          2.000000  ...                       0.000000         0.000000   \n",
      "50%          3.000000  ...                       0.000000         0.000000   \n",
      "75%          3.000000  ...                       0.000000         0.000000   \n",
      "max          4.000000  ...                       1.000000         1.000000   \n",
      "\n",
      "       JobRole_Manufacturing Director  JobRole_Research Director  \\\n",
      "count                     1470.000000                1470.000000   \n",
      "mean                         0.098639                   0.054422   \n",
      "std                          0.298279                   0.226925   \n",
      "min                          0.000000                   0.000000   \n",
      "25%                          0.000000                   0.000000   \n",
      "50%                          0.000000                   0.000000   \n",
      "75%                          0.000000                   0.000000   \n",
      "max                          1.000000                   1.000000   \n",
      "\n",
      "       JobRole_Research Scientist  JobRole_Sales Executive  \\\n",
      "count                 1470.000000              1470.000000   \n",
      "mean                     0.198639                 0.221769   \n",
      "std                      0.399112                 0.415578   \n",
      "min                      0.000000                 0.000000   \n",
      "25%                      0.000000                 0.000000   \n",
      "50%                      0.000000                 0.000000   \n",
      "75%                      0.000000                 0.000000   \n",
      "max                      1.000000                 1.000000   \n",
      "\n",
      "       JobRole_Sales Representative  MaritalStatus_Divorced  \\\n",
      "count                   1470.000000             1470.000000   \n",
      "mean                       0.056463                0.222449   \n",
      "std                        0.230891                0.416033   \n",
      "min                        0.000000                0.000000   \n",
      "25%                        0.000000                0.000000   \n",
      "50%                        0.000000                0.000000   \n",
      "75%                        0.000000                0.000000   \n",
      "max                        1.000000                1.000000   \n",
      "\n",
      "       MaritalStatus_Married  MaritalStatus_Single  \n",
      "count            1470.000000           1470.000000  \n",
      "mean                0.457823              0.319728  \n",
      "std                 0.498387              0.466530  \n",
      "min                 0.000000              0.000000  \n",
      "25%                 0.000000              0.000000  \n",
      "50%                 0.000000              0.000000  \n",
      "75%                 1.000000              1.000000  \n",
      "max                 1.000000              1.000000  \n",
      "\n",
      "[8 rows x 53 columns]\n"
     ]
    }
   ],
   "source": [
    "# Basic Summary Statistics\n",
    "print(data.describe())"
   ]
  },
  {
   "cell_type": "markdown",
   "metadata": {},
   "source": [
    "### Correlation"
   ]
  },
  {
   "cell_type": "code",
   "execution_count": 5,
   "metadata": {},
   "outputs": [
    {
     "ename": "ValueError",
     "evalue": "could not convert string to float: 'Yes'",
     "output_type": "error",
     "traceback": [
      "\u001b[0;31m---------------------------------------------------------------------------\u001b[0m",
      "\u001b[0;31mValueError\u001b[0m                                Traceback (most recent call last)",
      "\u001b[1;32mUntitled-1.ipynb Cell 7\u001b[0m line \u001b[0;36m1\n\u001b[1;32m     <a href='vscode-notebook-cell:Untitled-1.ipynb?jupyter-notebook#W6sdW50aXRsZWQ%3D?line=12'>13</a>\u001b[0m         \u001b[39mprint\u001b[39m(\u001b[39mf\u001b[39m\u001b[39m\"\u001b[39m\u001b[39mNo feature pairs with correlation above \u001b[39m\u001b[39m{\u001b[39;00mthreshold\u001b[39m}\u001b[39;00m\u001b[39m.\u001b[39m\u001b[39m\"\u001b[39m)\n\u001b[1;32m     <a href='vscode-notebook-cell:Untitled-1.ipynb?jupyter-notebook#W6sdW50aXRsZWQ%3D?line=14'>15</a>\u001b[0m \u001b[39m# Example usage:\u001b[39;00m\n\u001b[0;32m---> <a href='vscode-notebook-cell:Untitled-1.ipynb?jupyter-notebook#W6sdW50aXRsZWQ%3D?line=15'>16</a>\u001b[0m show_high_correlations(data, threshold\u001b[39m=\u001b[39;49m\u001b[39m0.6\u001b[39;49m)\n",
      "\u001b[1;32mUntitled-1.ipynb Cell 7\u001b[0m line \u001b[0;36m2\n\u001b[1;32m      <a href='vscode-notebook-cell:Untitled-1.ipynb?jupyter-notebook#W6sdW50aXRsZWQ%3D?line=0'>1</a>\u001b[0m \u001b[39mdef\u001b[39;00m \u001b[39mshow_high_correlations\u001b[39m(data, threshold):\n\u001b[0;32m----> <a href='vscode-notebook-cell:Untitled-1.ipynb?jupyter-notebook#W6sdW50aXRsZWQ%3D?line=1'>2</a>\u001b[0m     corr_matrix \u001b[39m=\u001b[39m data\u001b[39m.\u001b[39;49mcorr()\u001b[39m.\u001b[39mabs()  \u001b[39m# absolute value of correlations\u001b[39;00m\n\u001b[1;32m      <a href='vscode-notebook-cell:Untitled-1.ipynb?jupyter-notebook#W6sdW50aXRsZWQ%3D?line=2'>3</a>\u001b[0m     upper \u001b[39m=\u001b[39m corr_matrix\u001b[39m.\u001b[39mwhere(np\u001b[39m.\u001b[39mtriu(np\u001b[39m.\u001b[39mones(corr_matrix\u001b[39m.\u001b[39mshape), k\u001b[39m=\u001b[39m\u001b[39m1\u001b[39m)\u001b[39m.\u001b[39mastype(\u001b[39mbool\u001b[39m))  \u001b[39m# upper triangle only\u001b[39;00m\n\u001b[1;32m      <a href='vscode-notebook-cell:Untitled-1.ipynb?jupyter-notebook#W6sdW50aXRsZWQ%3D?line=4'>5</a>\u001b[0m     \u001b[39m# Find index pairs with correlation above threshold\u001b[39;00m\n",
      "File \u001b[0;32m~/Library/Python/3.9/lib/python/site-packages/pandas/core/frame.py:11049\u001b[0m, in \u001b[0;36mDataFrame.corr\u001b[0;34m(self, method, min_periods, numeric_only)\u001b[0m\n\u001b[1;32m  11047\u001b[0m cols \u001b[39m=\u001b[39m data\u001b[39m.\u001b[39mcolumns\n\u001b[1;32m  11048\u001b[0m idx \u001b[39m=\u001b[39m cols\u001b[39m.\u001b[39mcopy()\n\u001b[0;32m> 11049\u001b[0m mat \u001b[39m=\u001b[39m data\u001b[39m.\u001b[39;49mto_numpy(dtype\u001b[39m=\u001b[39;49m\u001b[39mfloat\u001b[39;49m, na_value\u001b[39m=\u001b[39;49mnp\u001b[39m.\u001b[39;49mnan, copy\u001b[39m=\u001b[39;49m\u001b[39mFalse\u001b[39;49;00m)\n\u001b[1;32m  11051\u001b[0m \u001b[39mif\u001b[39;00m method \u001b[39m==\u001b[39m \u001b[39m\"\u001b[39m\u001b[39mpearson\u001b[39m\u001b[39m\"\u001b[39m:\n\u001b[1;32m  11052\u001b[0m     correl \u001b[39m=\u001b[39m libalgos\u001b[39m.\u001b[39mnancorr(mat, minp\u001b[39m=\u001b[39mmin_periods)\n",
      "File \u001b[0;32m~/Library/Python/3.9/lib/python/site-packages/pandas/core/frame.py:1993\u001b[0m, in \u001b[0;36mDataFrame.to_numpy\u001b[0;34m(self, dtype, copy, na_value)\u001b[0m\n\u001b[1;32m   1991\u001b[0m \u001b[39mif\u001b[39;00m dtype \u001b[39mis\u001b[39;00m \u001b[39mnot\u001b[39;00m \u001b[39mNone\u001b[39;00m:\n\u001b[1;32m   1992\u001b[0m     dtype \u001b[39m=\u001b[39m np\u001b[39m.\u001b[39mdtype(dtype)\n\u001b[0;32m-> 1993\u001b[0m result \u001b[39m=\u001b[39m \u001b[39mself\u001b[39;49m\u001b[39m.\u001b[39;49m_mgr\u001b[39m.\u001b[39;49mas_array(dtype\u001b[39m=\u001b[39;49mdtype, copy\u001b[39m=\u001b[39;49mcopy, na_value\u001b[39m=\u001b[39;49mna_value)\n\u001b[1;32m   1994\u001b[0m \u001b[39mif\u001b[39;00m result\u001b[39m.\u001b[39mdtype \u001b[39mis\u001b[39;00m \u001b[39mnot\u001b[39;00m dtype:\n\u001b[1;32m   1995\u001b[0m     result \u001b[39m=\u001b[39m np\u001b[39m.\u001b[39masarray(result, dtype\u001b[39m=\u001b[39mdtype)\n",
      "File \u001b[0;32m~/Library/Python/3.9/lib/python/site-packages/pandas/core/internals/managers.py:1694\u001b[0m, in \u001b[0;36mBlockManager.as_array\u001b[0;34m(self, dtype, copy, na_value)\u001b[0m\n\u001b[1;32m   1692\u001b[0m         arr\u001b[39m.\u001b[39mflags\u001b[39m.\u001b[39mwriteable \u001b[39m=\u001b[39m \u001b[39mFalse\u001b[39;00m\n\u001b[1;32m   1693\u001b[0m \u001b[39melse\u001b[39;00m:\n\u001b[0;32m-> 1694\u001b[0m     arr \u001b[39m=\u001b[39m \u001b[39mself\u001b[39;49m\u001b[39m.\u001b[39;49m_interleave(dtype\u001b[39m=\u001b[39;49mdtype, na_value\u001b[39m=\u001b[39;49mna_value)\n\u001b[1;32m   1695\u001b[0m     \u001b[39m# The underlying data was copied within _interleave, so no need\u001b[39;00m\n\u001b[1;32m   1696\u001b[0m     \u001b[39m# to further copy if copy=True or setting na_value\u001b[39;00m\n\u001b[1;32m   1698\u001b[0m \u001b[39mif\u001b[39;00m na_value \u001b[39mis\u001b[39;00m lib\u001b[39m.\u001b[39mno_default:\n",
      "File \u001b[0;32m~/Library/Python/3.9/lib/python/site-packages/pandas/core/internals/managers.py:1753\u001b[0m, in \u001b[0;36mBlockManager._interleave\u001b[0;34m(self, dtype, na_value)\u001b[0m\n\u001b[1;32m   1751\u001b[0m     \u001b[39melse\u001b[39;00m:\n\u001b[1;32m   1752\u001b[0m         arr \u001b[39m=\u001b[39m blk\u001b[39m.\u001b[39mget_values(dtype)\n\u001b[0;32m-> 1753\u001b[0m     result[rl\u001b[39m.\u001b[39;49mindexer] \u001b[39m=\u001b[39m arr\n\u001b[1;32m   1754\u001b[0m     itemmask[rl\u001b[39m.\u001b[39mindexer] \u001b[39m=\u001b[39m \u001b[39m1\u001b[39m\n\u001b[1;32m   1756\u001b[0m \u001b[39mif\u001b[39;00m \u001b[39mnot\u001b[39;00m itemmask\u001b[39m.\u001b[39mall():\n",
      "\u001b[0;31mValueError\u001b[0m: could not convert string to float: 'Yes'"
     ]
    }
   ],
   "source": [
    "def show_high_correlations(data, threshold):\n",
    "    corr_matrix = data.corr().abs()  # absolute value of correlations\n",
    "    upper = corr_matrix.where(np.triu(np.ones(corr_matrix.shape), k=1).astype(bool))  # upper triangle only\n",
    "\n",
    "    # Find index pairs with correlation above threshold\n",
    "    high_corr = upper.stack()[upper.stack() > threshold].sort_values(ascending=False)\n",
    "\n",
    "    if not high_corr.empty:\n",
    "        print(\"Highly correlated feature pairs (>|{:.2f}|):\\n\".format(threshold))\n",
    "        for (feat1, feat2), corr_val in high_corr.items():\n",
    "            print(f\"{feat1} ↔ {feat2} : correlation = {corr_val:.3f}\")\n",
    "    else:\n",
    "        print(f\"No feature pairs with correlation above {threshold}.\")\n",
    "\n",
    "# Example usage:\n",
    "show_high_correlations(data, threshold=0.6)"
   ]
  },
  {
   "cell_type": "code",
   "execution_count": 6,
   "metadata": {},
   "outputs": [
    {
     "ename": "ValueError",
     "evalue": "could not convert string to float: 'Yes'",
     "output_type": "error",
     "traceback": [
      "\u001b[0;31m---------------------------------------------------------------------------\u001b[0m",
      "\u001b[0;31mValueError\u001b[0m                                Traceback (most recent call last)",
      "\u001b[1;32mUntitled-1.ipynb Cell 8\u001b[0m line \u001b[0;36m1\n\u001b[1;32m     <a href='vscode-notebook-cell:Untitled-1.ipynb?jupyter-notebook#X10sdW50aXRsZWQ%3D?line=10'>11</a>\u001b[0m     plt\u001b[39m.\u001b[39mshow()\n\u001b[1;32m     <a href='vscode-notebook-cell:Untitled-1.ipynb?jupyter-notebook#X10sdW50aXRsZWQ%3D?line=11'>12</a>\u001b[0m \u001b[39m# Plot the correlation matrix\u001b[39;00m\n\u001b[0;32m---> <a href='vscode-notebook-cell:Untitled-1.ipynb?jupyter-notebook#X10sdW50aXRsZWQ%3D?line=12'>13</a>\u001b[0m plot_correlation_matrix(data)\n\u001b[1;32m     <a href='vscode-notebook-cell:Untitled-1.ipynb?jupyter-notebook#X10sdW50aXRsZWQ%3D?line=14'>15</a>\u001b[0m \u001b[39m# Print list of features with more than 70% correlation\u001b[39;00m\n\u001b[1;32m     <a href='vscode-notebook-cell:Untitled-1.ipynb?jupyter-notebook#X10sdW50aXRsZWQ%3D?line=15'>16</a>\u001b[0m \u001b[39mdef\u001b[39;00m \u001b[39mget_high_correlation_features\u001b[39m(data, threshold\u001b[39m=\u001b[39m\u001b[39m0.7\u001b[39m):\n",
      "\u001b[1;32mUntitled-1.ipynb Cell 8\u001b[0m line \u001b[0;36m4\n\u001b[1;32m      <a href='vscode-notebook-cell:Untitled-1.ipynb?jupyter-notebook#X10sdW50aXRsZWQ%3D?line=1'>2</a>\u001b[0m \u001b[39mdef\u001b[39;00m \u001b[39mplot_correlation_matrix\u001b[39m(data):\n\u001b[1;32m      <a href='vscode-notebook-cell:Untitled-1.ipynb?jupyter-notebook#X10sdW50aXRsZWQ%3D?line=2'>3</a>\u001b[0m     \u001b[39m# Calculate the correlation matrix\u001b[39;00m\n\u001b[0;32m----> <a href='vscode-notebook-cell:Untitled-1.ipynb?jupyter-notebook#X10sdW50aXRsZWQ%3D?line=3'>4</a>\u001b[0m     corr \u001b[39m=\u001b[39m data\u001b[39m.\u001b[39;49mcorr()\n\u001b[1;32m      <a href='vscode-notebook-cell:Untitled-1.ipynb?jupyter-notebook#X10sdW50aXRsZWQ%3D?line=4'>5</a>\u001b[0m     \u001b[39m# Set up the matplotlib figure\u001b[39;00m\n\u001b[1;32m      <a href='vscode-notebook-cell:Untitled-1.ipynb?jupyter-notebook#X10sdW50aXRsZWQ%3D?line=5'>6</a>\u001b[0m     plt\u001b[39m.\u001b[39mfigure(figsize\u001b[39m=\u001b[39m(\u001b[39m12\u001b[39m, \u001b[39m10\u001b[39m))\n",
      "File \u001b[0;32m~/Library/Python/3.9/lib/python/site-packages/pandas/core/frame.py:11049\u001b[0m, in \u001b[0;36mDataFrame.corr\u001b[0;34m(self, method, min_periods, numeric_only)\u001b[0m\n\u001b[1;32m  11047\u001b[0m cols \u001b[39m=\u001b[39m data\u001b[39m.\u001b[39mcolumns\n\u001b[1;32m  11048\u001b[0m idx \u001b[39m=\u001b[39m cols\u001b[39m.\u001b[39mcopy()\n\u001b[0;32m> 11049\u001b[0m mat \u001b[39m=\u001b[39m data\u001b[39m.\u001b[39;49mto_numpy(dtype\u001b[39m=\u001b[39;49m\u001b[39mfloat\u001b[39;49m, na_value\u001b[39m=\u001b[39;49mnp\u001b[39m.\u001b[39;49mnan, copy\u001b[39m=\u001b[39;49m\u001b[39mFalse\u001b[39;49;00m)\n\u001b[1;32m  11051\u001b[0m \u001b[39mif\u001b[39;00m method \u001b[39m==\u001b[39m \u001b[39m\"\u001b[39m\u001b[39mpearson\u001b[39m\u001b[39m\"\u001b[39m:\n\u001b[1;32m  11052\u001b[0m     correl \u001b[39m=\u001b[39m libalgos\u001b[39m.\u001b[39mnancorr(mat, minp\u001b[39m=\u001b[39mmin_periods)\n",
      "File \u001b[0;32m~/Library/Python/3.9/lib/python/site-packages/pandas/core/frame.py:1993\u001b[0m, in \u001b[0;36mDataFrame.to_numpy\u001b[0;34m(self, dtype, copy, na_value)\u001b[0m\n\u001b[1;32m   1991\u001b[0m \u001b[39mif\u001b[39;00m dtype \u001b[39mis\u001b[39;00m \u001b[39mnot\u001b[39;00m \u001b[39mNone\u001b[39;00m:\n\u001b[1;32m   1992\u001b[0m     dtype \u001b[39m=\u001b[39m np\u001b[39m.\u001b[39mdtype(dtype)\n\u001b[0;32m-> 1993\u001b[0m result \u001b[39m=\u001b[39m \u001b[39mself\u001b[39;49m\u001b[39m.\u001b[39;49m_mgr\u001b[39m.\u001b[39;49mas_array(dtype\u001b[39m=\u001b[39;49mdtype, copy\u001b[39m=\u001b[39;49mcopy, na_value\u001b[39m=\u001b[39;49mna_value)\n\u001b[1;32m   1994\u001b[0m \u001b[39mif\u001b[39;00m result\u001b[39m.\u001b[39mdtype \u001b[39mis\u001b[39;00m \u001b[39mnot\u001b[39;00m dtype:\n\u001b[1;32m   1995\u001b[0m     result \u001b[39m=\u001b[39m np\u001b[39m.\u001b[39masarray(result, dtype\u001b[39m=\u001b[39mdtype)\n",
      "File \u001b[0;32m~/Library/Python/3.9/lib/python/site-packages/pandas/core/internals/managers.py:1694\u001b[0m, in \u001b[0;36mBlockManager.as_array\u001b[0;34m(self, dtype, copy, na_value)\u001b[0m\n\u001b[1;32m   1692\u001b[0m         arr\u001b[39m.\u001b[39mflags\u001b[39m.\u001b[39mwriteable \u001b[39m=\u001b[39m \u001b[39mFalse\u001b[39;00m\n\u001b[1;32m   1693\u001b[0m \u001b[39melse\u001b[39;00m:\n\u001b[0;32m-> 1694\u001b[0m     arr \u001b[39m=\u001b[39m \u001b[39mself\u001b[39;49m\u001b[39m.\u001b[39;49m_interleave(dtype\u001b[39m=\u001b[39;49mdtype, na_value\u001b[39m=\u001b[39;49mna_value)\n\u001b[1;32m   1695\u001b[0m     \u001b[39m# The underlying data was copied within _interleave, so no need\u001b[39;00m\n\u001b[1;32m   1696\u001b[0m     \u001b[39m# to further copy if copy=True or setting na_value\u001b[39;00m\n\u001b[1;32m   1698\u001b[0m \u001b[39mif\u001b[39;00m na_value \u001b[39mis\u001b[39;00m lib\u001b[39m.\u001b[39mno_default:\n",
      "File \u001b[0;32m~/Library/Python/3.9/lib/python/site-packages/pandas/core/internals/managers.py:1753\u001b[0m, in \u001b[0;36mBlockManager._interleave\u001b[0;34m(self, dtype, na_value)\u001b[0m\n\u001b[1;32m   1751\u001b[0m     \u001b[39melse\u001b[39;00m:\n\u001b[1;32m   1752\u001b[0m         arr \u001b[39m=\u001b[39m blk\u001b[39m.\u001b[39mget_values(dtype)\n\u001b[0;32m-> 1753\u001b[0m     result[rl\u001b[39m.\u001b[39;49mindexer] \u001b[39m=\u001b[39m arr\n\u001b[1;32m   1754\u001b[0m     itemmask[rl\u001b[39m.\u001b[39mindexer] \u001b[39m=\u001b[39m \u001b[39m1\u001b[39m\n\u001b[1;32m   1756\u001b[0m \u001b[39mif\u001b[39;00m \u001b[39mnot\u001b[39;00m itemmask\u001b[39m.\u001b[39mall():\n",
      "\u001b[0;31mValueError\u001b[0m: could not convert string to float: 'Yes'"
     ]
    }
   ],
   "source": [
    "# Make a correlation matrix and print save it to a file\n",
    "def plot_correlation_matrix(data):\n",
    "    # Calculate the correlation matrix\n",
    "    corr = data.corr()\n",
    "    # Set up the matplotlib figure\n",
    "    plt.figure(figsize=(12, 10))\n",
    "    # Draw the heatmap without annotations\n",
    "    sns.heatmap(corr, cmap='coolwarm', annot=False, square=True, cbar_kws={\"shrink\": .8})\n",
    "    plt.title('Correlation Matrix')\n",
    "    plt.savefig('correlation_matrix.png')\n",
    "    plt.show()\n",
    "# Plot the correlation matrix\n",
    "plot_correlation_matrix(data)\n",
    "\n",
    "# Print list of features with more than 70% correlation\n",
    "def get_high_correlation_features(data, threshold=0.7):\n",
    "    corr = data.corr()\n",
    "    high_corr_var = np.where(corr > threshold)\n",
    "    high_corr_var = [(corr.columns[x], corr.columns[y], corr.iloc[x, y])\n",
    "                     for x, y in zip(*high_corr_var)\n",
    "                     if x != y and x < y]\n",
    "    return high_corr_var\n",
    "\n",
    "high_corr_features = get_high_correlation_features(data, threshold=0.7)\n",
    "\n",
    "print(\"Features with correlation greater than 0.7:\")\n",
    "for f1, f2, value in high_corr_features:\n",
    "    print(f\"{f1} - {f2}: {value:.2f}\")"
   ]
  },
  {
   "cell_type": "markdown",
   "metadata": {},
   "source": [
    "### Distribution of the target variable"
   ]
  },
  {
   "cell_type": "code",
   "execution_count": 10,
   "metadata": {},
   "outputs": [
    {
     "data": {
      "image/png": "[encoded data removed]",
      "text/plain": [
       "<Figure size 800x600 with 1 Axes>"
      ]
     },
     "metadata": {},
     "output_type": "display_data"
    }
   ],
   "source": [
    "# Plot the distribution of the target variable\n",
    "def plot_target_distribution(data):\n",
    "    plt.figure(figsize=(8, 6))\n",
    "    sns.countplot(x='Attrition', data=data, palette='Set2')\n",
    "    plt.title('Distribution of Attrition')\n",
    "    plt.xlabel('Attrition')\n",
    "    plt.ylabel('Count')\n",
    "    plt.savefig('target_distribution.png')\n",
    "    plt.show()\n",
    "# Plot the target distribution\n",
    "plot_target_distribution(data)"
   ]
  },
  {
   "cell_type": "code",
   "execution_count": 11,
   "metadata": {},
   "outputs": [
    {
     "data": {
      "text/plain": [
       "Attrition\n",
       "No     0.838776\n",
       "Yes    0.161224\n",
       "Name: proportion, dtype: float64"
      ]
     },
     "execution_count": 11,
     "metadata": {},
     "output_type": "execute_result"
    }
   ],
   "source": [
    "data[\"Attrition\"].value_counts(normalize=True)"
   ]
  },
  {
   "cell_type": "markdown",
   "metadata": {},
   "source": [
    "### Group-wise analysis\n",
    "\n",
    "Understand how the target depends on features\n",
    "\n",
    "This will guide edge creation in your PGM"
   ]
  },
  {
   "cell_type": "code",
   "execution_count": 9,
   "metadata": {},
   "outputs": [
    {
     "ename": "TypeError",
     "evalue": "agg function failed [how->mean,dtype->object]",
     "output_type": "error",
     "traceback": [
      "\u001b[0;31m---------------------------------------------------------------------------\u001b[0m",
      "\u001b[0;31mTypeError\u001b[0m                                 Traceback (most recent call last)",
      "File \u001b[0;32m~/Library/Python/3.9/lib/python/site-packages/pandas/core/groupby/groupby.py:1942\u001b[0m, in \u001b[0;36mGroupBy._agg_py_fallback\u001b[0;34m(self, how, values, ndim, alt)\u001b[0m\n\u001b[1;32m   1941\u001b[0m \u001b[39mtry\u001b[39;00m:\n\u001b[0;32m-> 1942\u001b[0m     res_values \u001b[39m=\u001b[39m \u001b[39mself\u001b[39;49m\u001b[39m.\u001b[39;49m_grouper\u001b[39m.\u001b[39;49magg_series(ser, alt, preserve_dtype\u001b[39m=\u001b[39;49m\u001b[39mTrue\u001b[39;49;00m)\n\u001b[1;32m   1943\u001b[0m \u001b[39mexcept\u001b[39;00m \u001b[39mException\u001b[39;00m \u001b[39mas\u001b[39;00m err:\n",
      "File \u001b[0;32m~/Library/Python/3.9/lib/python/site-packages/pandas/core/groupby/ops.py:864\u001b[0m, in \u001b[0;36mBaseGrouper.agg_series\u001b[0;34m(self, obj, func, preserve_dtype)\u001b[0m\n\u001b[1;32m    862\u001b[0m     preserve_dtype \u001b[39m=\u001b[39m \u001b[39mTrue\u001b[39;00m\n\u001b[0;32m--> 864\u001b[0m result \u001b[39m=\u001b[39m \u001b[39mself\u001b[39;49m\u001b[39m.\u001b[39;49m_aggregate_series_pure_python(obj, func)\n\u001b[1;32m    866\u001b[0m npvalues \u001b[39m=\u001b[39m lib\u001b[39m.\u001b[39mmaybe_convert_objects(result, try_float\u001b[39m=\u001b[39m\u001b[39mFalse\u001b[39;00m)\n",
      "File \u001b[0;32m~/Library/Python/3.9/lib/python/site-packages/pandas/core/groupby/ops.py:885\u001b[0m, in \u001b[0;36mBaseGrouper._aggregate_series_pure_python\u001b[0;34m(self, obj, func)\u001b[0m\n\u001b[1;32m    884\u001b[0m \u001b[39mfor\u001b[39;00m i, group \u001b[39min\u001b[39;00m \u001b[39menumerate\u001b[39m(splitter):\n\u001b[0;32m--> 885\u001b[0m     res \u001b[39m=\u001b[39m func(group)\n\u001b[1;32m    886\u001b[0m     res \u001b[39m=\u001b[39m extract_result(res)\n",
      "File \u001b[0;32m~/Library/Python/3.9/lib/python/site-packages/pandas/core/groupby/groupby.py:2454\u001b[0m, in \u001b[0;36mGroupBy.mean.<locals>.<lambda>\u001b[0;34m(x)\u001b[0m\n\u001b[1;32m   2451\u001b[0m \u001b[39melse\u001b[39;00m:\n\u001b[1;32m   2452\u001b[0m     result \u001b[39m=\u001b[39m \u001b[39mself\u001b[39m\u001b[39m.\u001b[39m_cython_agg_general(\n\u001b[1;32m   2453\u001b[0m         \u001b[39m\"\u001b[39m\u001b[39mmean\u001b[39m\u001b[39m\"\u001b[39m,\n\u001b[0;32m-> 2454\u001b[0m         alt\u001b[39m=\u001b[39m\u001b[39mlambda\u001b[39;00m x: Series(x, copy\u001b[39m=\u001b[39;49m\u001b[39mFalse\u001b[39;49;00m)\u001b[39m.\u001b[39;49mmean(numeric_only\u001b[39m=\u001b[39;49mnumeric_only),\n\u001b[1;32m   2455\u001b[0m         numeric_only\u001b[39m=\u001b[39mnumeric_only,\n\u001b[1;32m   2456\u001b[0m     )\n\u001b[1;32m   2457\u001b[0m     \u001b[39mreturn\u001b[39;00m result\u001b[39m.\u001b[39m__finalize__(\u001b[39mself\u001b[39m\u001b[39m.\u001b[39mobj, method\u001b[39m=\u001b[39m\u001b[39m\"\u001b[39m\u001b[39mgroupby\u001b[39m\u001b[39m\"\u001b[39m)\n",
      "File \u001b[0;32m~/Library/Python/3.9/lib/python/site-packages/pandas/core/series.py:6549\u001b[0m, in \u001b[0;36mSeries.mean\u001b[0;34m(self, axis, skipna, numeric_only, **kwargs)\u001b[0m\n\u001b[1;32m   6541\u001b[0m \u001b[39m@doc\u001b[39m(make_doc(\u001b[39m\"\u001b[39m\u001b[39mmean\u001b[39m\u001b[39m\"\u001b[39m, ndim\u001b[39m=\u001b[39m\u001b[39m1\u001b[39m))\n\u001b[1;32m   6542\u001b[0m \u001b[39mdef\u001b[39;00m \u001b[39mmean\u001b[39m(\n\u001b[1;32m   6543\u001b[0m     \u001b[39mself\u001b[39m,\n\u001b[0;32m   (...)\u001b[0m\n\u001b[1;32m   6547\u001b[0m     \u001b[39m*\u001b[39m\u001b[39m*\u001b[39mkwargs,\n\u001b[1;32m   6548\u001b[0m ):\n\u001b[0;32m-> 6549\u001b[0m     \u001b[39mreturn\u001b[39;00m NDFrame\u001b[39m.\u001b[39;49mmean(\u001b[39mself\u001b[39;49m, axis, skipna, numeric_only, \u001b[39m*\u001b[39;49m\u001b[39m*\u001b[39;49mkwargs)\n",
      "File \u001b[0;32m~/Library/Python/3.9/lib/python/site-packages/pandas/core/generic.py:12420\u001b[0m, in \u001b[0;36mNDFrame.mean\u001b[0;34m(self, axis, skipna, numeric_only, **kwargs)\u001b[0m\n\u001b[1;32m  12413\u001b[0m \u001b[39mdef\u001b[39;00m \u001b[39mmean\u001b[39m(\n\u001b[1;32m  12414\u001b[0m     \u001b[39mself\u001b[39m,\n\u001b[1;32m  12415\u001b[0m     axis: Axis \u001b[39m|\u001b[39m \u001b[39mNone\u001b[39;00m \u001b[39m=\u001b[39m \u001b[39m0\u001b[39m,\n\u001b[0;32m   (...)\u001b[0m\n\u001b[1;32m  12418\u001b[0m     \u001b[39m*\u001b[39m\u001b[39m*\u001b[39mkwargs,\n\u001b[1;32m  12419\u001b[0m ) \u001b[39m-\u001b[39m\u001b[39m>\u001b[39m Series \u001b[39m|\u001b[39m \u001b[39mfloat\u001b[39m:\n\u001b[0;32m> 12420\u001b[0m     \u001b[39mreturn\u001b[39;00m \u001b[39mself\u001b[39;49m\u001b[39m.\u001b[39;49m_stat_function(\n\u001b[1;32m  12421\u001b[0m         \u001b[39m\"\u001b[39;49m\u001b[39mmean\u001b[39;49m\u001b[39m\"\u001b[39;49m, nanops\u001b[39m.\u001b[39;49mnanmean, axis, skipna, numeric_only, \u001b[39m*\u001b[39;49m\u001b[39m*\u001b[39;49mkwargs\n\u001b[1;32m  12422\u001b[0m     )\n",
      "File \u001b[0;32m~/Library/Python/3.9/lib/python/site-packages/pandas/core/generic.py:12377\u001b[0m, in \u001b[0;36mNDFrame._stat_function\u001b[0;34m(self, name, func, axis, skipna, numeric_only, **kwargs)\u001b[0m\n\u001b[1;32m  12375\u001b[0m validate_bool_kwarg(skipna, \u001b[39m\"\u001b[39m\u001b[39mskipna\u001b[39m\u001b[39m\"\u001b[39m, none_allowed\u001b[39m=\u001b[39m\u001b[39mFalse\u001b[39;00m)\n\u001b[0;32m> 12377\u001b[0m \u001b[39mreturn\u001b[39;00m \u001b[39mself\u001b[39;49m\u001b[39m.\u001b[39;49m_reduce(\n\u001b[1;32m  12378\u001b[0m     func, name\u001b[39m=\u001b[39;49mname, axis\u001b[39m=\u001b[39;49maxis, skipna\u001b[39m=\u001b[39;49mskipna, numeric_only\u001b[39m=\u001b[39;49mnumeric_only\n\u001b[1;32m  12379\u001b[0m )\n",
      "File \u001b[0;32m~/Library/Python/3.9/lib/python/site-packages/pandas/core/series.py:6457\u001b[0m, in \u001b[0;36mSeries._reduce\u001b[0;34m(self, op, name, axis, skipna, numeric_only, filter_type, **kwds)\u001b[0m\n\u001b[1;32m   6453\u001b[0m     \u001b[39mraise\u001b[39;00m \u001b[39mTypeError\u001b[39;00m(\n\u001b[1;32m   6454\u001b[0m         \u001b[39mf\u001b[39m\u001b[39m\"\u001b[39m\u001b[39mSeries.\u001b[39m\u001b[39m{\u001b[39;00mname\u001b[39m}\u001b[39;00m\u001b[39m does not allow \u001b[39m\u001b[39m{\u001b[39;00mkwd_name\u001b[39m}\u001b[39;00m\u001b[39m=\u001b[39m\u001b[39m{\u001b[39;00mnumeric_only\u001b[39m}\u001b[39;00m\u001b[39m \u001b[39m\u001b[39m\"\u001b[39m\n\u001b[1;32m   6455\u001b[0m         \u001b[39m\"\u001b[39m\u001b[39mwith non-numeric dtypes.\u001b[39m\u001b[39m\"\u001b[39m\n\u001b[1;32m   6456\u001b[0m     )\n\u001b[0;32m-> 6457\u001b[0m \u001b[39mreturn\u001b[39;00m op(delegate, skipna\u001b[39m=\u001b[39;49mskipna, \u001b[39m*\u001b[39;49m\u001b[39m*\u001b[39;49mkwds)\n",
      "File \u001b[0;32m~/Library/Python/3.9/lib/python/site-packages/pandas/core/nanops.py:147\u001b[0m, in \u001b[0;36mbottleneck_switch.__call__.<locals>.f\u001b[0;34m(values, axis, skipna, **kwds)\u001b[0m\n\u001b[1;32m    146\u001b[0m \u001b[39melse\u001b[39;00m:\n\u001b[0;32m--> 147\u001b[0m     result \u001b[39m=\u001b[39m alt(values, axis\u001b[39m=\u001b[39;49maxis, skipna\u001b[39m=\u001b[39;49mskipna, \u001b[39m*\u001b[39;49m\u001b[39m*\u001b[39;49mkwds)\n\u001b[1;32m    149\u001b[0m \u001b[39mreturn\u001b[39;00m result\n",
      "File \u001b[0;32m~/Library/Python/3.9/lib/python/site-packages/pandas/core/nanops.py:404\u001b[0m, in \u001b[0;36m_datetimelike_compat.<locals>.new_func\u001b[0;34m(values, axis, skipna, mask, **kwargs)\u001b[0m\n\u001b[1;32m    402\u001b[0m     mask \u001b[39m=\u001b[39m isna(values)\n\u001b[0;32m--> 404\u001b[0m result \u001b[39m=\u001b[39m func(values, axis\u001b[39m=\u001b[39;49maxis, skipna\u001b[39m=\u001b[39;49mskipna, mask\u001b[39m=\u001b[39;49mmask, \u001b[39m*\u001b[39;49m\u001b[39m*\u001b[39;49mkwargs)\n\u001b[1;32m    406\u001b[0m \u001b[39mif\u001b[39;00m datetimelike:\n",
      "File \u001b[0;32m~/Library/Python/3.9/lib/python/site-packages/pandas/core/nanops.py:720\u001b[0m, in \u001b[0;36mnanmean\u001b[0;34m(values, axis, skipna, mask)\u001b[0m\n\u001b[1;32m    719\u001b[0m the_sum \u001b[39m=\u001b[39m values\u001b[39m.\u001b[39msum(axis, dtype\u001b[39m=\u001b[39mdtype_sum)\n\u001b[0;32m--> 720\u001b[0m the_sum \u001b[39m=\u001b[39m _ensure_numeric(the_sum)\n\u001b[1;32m    722\u001b[0m \u001b[39mif\u001b[39;00m axis \u001b[39mis\u001b[39;00m \u001b[39mnot\u001b[39;00m \u001b[39mNone\u001b[39;00m \u001b[39mand\u001b[39;00m \u001b[39mgetattr\u001b[39m(the_sum, \u001b[39m\"\u001b[39m\u001b[39mndim\u001b[39m\u001b[39m\"\u001b[39m, \u001b[39mFalse\u001b[39;00m):\n",
      "File \u001b[0;32m~/Library/Python/3.9/lib/python/site-packages/pandas/core/nanops.py:1701\u001b[0m, in \u001b[0;36m_ensure_numeric\u001b[0;34m(x)\u001b[0m\n\u001b[1;32m   1699\u001b[0m \u001b[39mif\u001b[39;00m \u001b[39misinstance\u001b[39m(x, \u001b[39mstr\u001b[39m):\n\u001b[1;32m   1700\u001b[0m     \u001b[39m# GH#44008, GH#36703 avoid casting e.g. strings to numeric\u001b[39;00m\n\u001b[0;32m-> 1701\u001b[0m     \u001b[39mraise\u001b[39;00m \u001b[39mTypeError\u001b[39;00m(\u001b[39mf\u001b[39m\u001b[39m\"\u001b[39m\u001b[39mCould not convert string \u001b[39m\u001b[39m'\u001b[39m\u001b[39m{\u001b[39;00mx\u001b[39m}\u001b[39;00m\u001b[39m'\u001b[39m\u001b[39m to numeric\u001b[39m\u001b[39m\"\u001b[39m)\n\u001b[1;32m   1702\u001b[0m \u001b[39mtry\u001b[39;00m:\n",
      "\u001b[0;31mTypeError\u001b[0m: Could not convert string 'YesNoYesNoYesNoYesNo' to numeric",
      "\nThe above exception was the direct cause of the following exception:\n",
      "\u001b[0;31mTypeError\u001b[0m                                 Traceback (most recent call last)",
      "\u001b[1;32mUntitled-1.ipynb Cell 13\u001b[0m line \u001b[0;36m2\n\u001b[1;32m      <a href='vscode-notebook-cell:Untitled-1.ipynb?jupyter-notebook#X15sdW50aXRsZWQ%3D?line=0'>1</a>\u001b[0m \u001b[39m# Understand how the target depends on features\u001b[39;00m\n\u001b[0;32m----> <a href='vscode-notebook-cell:Untitled-1.ipynb?jupyter-notebook#X15sdW50aXRsZWQ%3D?line=1'>2</a>\u001b[0m data\u001b[39m.\u001b[39;49mgroupby(\u001b[39m\"\u001b[39;49m\u001b[39mAge\u001b[39;49m\u001b[39m\"\u001b[39;49m)[\u001b[39m\"\u001b[39;49m\u001b[39mAttrition\u001b[39;49m\u001b[39m\"\u001b[39;49m]\u001b[39m.\u001b[39;49mmean()\n",
      "File \u001b[0;32m~/Library/Python/3.9/lib/python/site-packages/pandas/core/groupby/groupby.py:2452\u001b[0m, in \u001b[0;36mGroupBy.mean\u001b[0;34m(self, numeric_only, engine, engine_kwargs)\u001b[0m\n\u001b[1;32m   2445\u001b[0m     \u001b[39mreturn\u001b[39;00m \u001b[39mself\u001b[39m\u001b[39m.\u001b[39m_numba_agg_general(\n\u001b[1;32m   2446\u001b[0m         grouped_mean,\n\u001b[1;32m   2447\u001b[0m         executor\u001b[39m.\u001b[39mfloat_dtype_mapping,\n\u001b[1;32m   2448\u001b[0m         engine_kwargs,\n\u001b[1;32m   2449\u001b[0m         min_periods\u001b[39m=\u001b[39m\u001b[39m0\u001b[39m,\n\u001b[1;32m   2450\u001b[0m     )\n\u001b[1;32m   2451\u001b[0m \u001b[39melse\u001b[39;00m:\n\u001b[0;32m-> 2452\u001b[0m     result \u001b[39m=\u001b[39m \u001b[39mself\u001b[39;49m\u001b[39m.\u001b[39;49m_cython_agg_general(\n\u001b[1;32m   2453\u001b[0m         \u001b[39m\"\u001b[39;49m\u001b[39mmean\u001b[39;49m\u001b[39m\"\u001b[39;49m,\n\u001b[1;32m   2454\u001b[0m         alt\u001b[39m=\u001b[39;49m\u001b[39mlambda\u001b[39;49;00m x: Series(x, copy\u001b[39m=\u001b[39;49m\u001b[39mFalse\u001b[39;49;00m)\u001b[39m.\u001b[39;49mmean(numeric_only\u001b[39m=\u001b[39;49mnumeric_only),\n\u001b[1;32m   2455\u001b[0m         numeric_only\u001b[39m=\u001b[39;49mnumeric_only,\n\u001b[1;32m   2456\u001b[0m     )\n\u001b[1;32m   2457\u001b[0m     \u001b[39mreturn\u001b[39;00m result\u001b[39m.\u001b[39m__finalize__(\u001b[39mself\u001b[39m\u001b[39m.\u001b[39mobj, method\u001b[39m=\u001b[39m\u001b[39m\"\u001b[39m\u001b[39mgroupby\u001b[39m\u001b[39m\"\u001b[39m)\n",
      "File \u001b[0;32m~/Library/Python/3.9/lib/python/site-packages/pandas/core/groupby/groupby.py:1998\u001b[0m, in \u001b[0;36mGroupBy._cython_agg_general\u001b[0;34m(self, how, alt, numeric_only, min_count, **kwargs)\u001b[0m\n\u001b[1;32m   1995\u001b[0m     result \u001b[39m=\u001b[39m \u001b[39mself\u001b[39m\u001b[39m.\u001b[39m_agg_py_fallback(how, values, ndim\u001b[39m=\u001b[39mdata\u001b[39m.\u001b[39mndim, alt\u001b[39m=\u001b[39malt)\n\u001b[1;32m   1996\u001b[0m     \u001b[39mreturn\u001b[39;00m result\n\u001b[0;32m-> 1998\u001b[0m new_mgr \u001b[39m=\u001b[39m data\u001b[39m.\u001b[39;49mgrouped_reduce(array_func)\n\u001b[1;32m   1999\u001b[0m res \u001b[39m=\u001b[39m \u001b[39mself\u001b[39m\u001b[39m.\u001b[39m_wrap_agged_manager(new_mgr)\n\u001b[1;32m   2000\u001b[0m \u001b[39mif\u001b[39;00m how \u001b[39min\u001b[39;00m [\u001b[39m\"\u001b[39m\u001b[39midxmin\u001b[39m\u001b[39m\"\u001b[39m, \u001b[39m\"\u001b[39m\u001b[39midxmax\u001b[39m\u001b[39m\"\u001b[39m]:\n",
      "File \u001b[0;32m~/Library/Python/3.9/lib/python/site-packages/pandas/core/internals/base.py:367\u001b[0m, in \u001b[0;36mSingleDataManager.grouped_reduce\u001b[0;34m(self, func)\u001b[0m\n\u001b[1;32m    365\u001b[0m \u001b[39mdef\u001b[39;00m \u001b[39mgrouped_reduce\u001b[39m(\u001b[39mself\u001b[39m, func):\n\u001b[1;32m    366\u001b[0m     arr \u001b[39m=\u001b[39m \u001b[39mself\u001b[39m\u001b[39m.\u001b[39marray\n\u001b[0;32m--> 367\u001b[0m     res \u001b[39m=\u001b[39m func(arr)\n\u001b[1;32m    368\u001b[0m     index \u001b[39m=\u001b[39m default_index(\u001b[39mlen\u001b[39m(res))\n\u001b[1;32m    370\u001b[0m     mgr \u001b[39m=\u001b[39m \u001b[39mtype\u001b[39m(\u001b[39mself\u001b[39m)\u001b[39m.\u001b[39mfrom_array(res, index)\n",
      "File \u001b[0;32m~/Library/Python/3.9/lib/python/site-packages/pandas/core/groupby/groupby.py:1995\u001b[0m, in \u001b[0;36mGroupBy._cython_agg_general.<locals>.array_func\u001b[0;34m(values)\u001b[0m\n\u001b[1;32m   1992\u001b[0m     \u001b[39mreturn\u001b[39;00m result\n\u001b[1;32m   1994\u001b[0m \u001b[39massert\u001b[39;00m alt \u001b[39mis\u001b[39;00m \u001b[39mnot\u001b[39;00m \u001b[39mNone\u001b[39;00m\n\u001b[0;32m-> 1995\u001b[0m result \u001b[39m=\u001b[39m \u001b[39mself\u001b[39;49m\u001b[39m.\u001b[39;49m_agg_py_fallback(how, values, ndim\u001b[39m=\u001b[39;49mdata\u001b[39m.\u001b[39;49mndim, alt\u001b[39m=\u001b[39;49malt)\n\u001b[1;32m   1996\u001b[0m \u001b[39mreturn\u001b[39;00m result\n",
      "File \u001b[0;32m~/Library/Python/3.9/lib/python/site-packages/pandas/core/groupby/groupby.py:1946\u001b[0m, in \u001b[0;36mGroupBy._agg_py_fallback\u001b[0;34m(self, how, values, ndim, alt)\u001b[0m\n\u001b[1;32m   1944\u001b[0m     msg \u001b[39m=\u001b[39m \u001b[39mf\u001b[39m\u001b[39m\"\u001b[39m\u001b[39magg function failed [how->\u001b[39m\u001b[39m{\u001b[39;00mhow\u001b[39m}\u001b[39;00m\u001b[39m,dtype->\u001b[39m\u001b[39m{\u001b[39;00mser\u001b[39m.\u001b[39mdtype\u001b[39m}\u001b[39;00m\u001b[39m]\u001b[39m\u001b[39m\"\u001b[39m\n\u001b[1;32m   1945\u001b[0m     \u001b[39m# preserve the kind of exception that raised\u001b[39;00m\n\u001b[0;32m-> 1946\u001b[0m     \u001b[39mraise\u001b[39;00m \u001b[39mtype\u001b[39m(err)(msg) \u001b[39mfrom\u001b[39;00m \u001b[39merr\u001b[39;00m\n\u001b[1;32m   1948\u001b[0m \u001b[39mif\u001b[39;00m ser\u001b[39m.\u001b[39mdtype \u001b[39m==\u001b[39m \u001b[39mobject\u001b[39m:\n\u001b[1;32m   1949\u001b[0m     res_values \u001b[39m=\u001b[39m res_values\u001b[39m.\u001b[39mastype(\u001b[39mobject\u001b[39m, copy\u001b[39m=\u001b[39m\u001b[39mFalse\u001b[39;00m)\n",
      "\u001b[0;31mTypeError\u001b[0m: agg function failed [how->mean,dtype->object]"
     ]
    }
   ],
   "source": [
    "# Understand how the target depends on features\n",
    "data.groupby(\"Age\")[\"Attrition\"].mean()"
   ]
  },
  {
   "cell_type": "markdown",
   "metadata": {},
   "source": [
    "### Chi-Square Tests for Categorical Features\n",
    "Check dependence between two categorical variables\n",
    "\n",
    "If p-value is small → likely dependency → draw an edge in your PGM."
   ]
  },
  {
   "cell_type": "code",
   "execution_count": 10,
   "metadata": {},
   "outputs": [
    {
     "name": "stdout",
     "output_type": "stream",
     "text": [
      "p-value = 0.4937\n"
     ]
    }
   ],
   "source": [
    "from scipy.stats import chi2_contingency\n",
    "\n",
    "contingency = pd.crosstab(data[\"Gender\"], data[\"YearsAtCompany\"])\n",
    "chi2, p, _, _ = chi2_contingency(contingency)\n",
    "print(f\"p-value = {p:.4f}\")"
   ]
  },
  {
   "cell_type": "code",
   "execution_count": 11,
   "metadata": {},
   "outputs": [
    {
     "name": "stdout",
     "output_type": "stream",
     "text": [
      "p-value = 0.0000\n"
     ]
    }
   ],
   "source": [
    "contingency = pd.crosstab(data[\"Age\"], data[\"YearsAtCompany\"])\n",
    "chi2, p, _, _ = chi2_contingency(contingency)\n",
    "print(f\"p-value = {p:.4f}\")"
   ]
  },
  {
   "cell_type": "markdown",
   "metadata": {},
   "source": [
    "### Mutual Information (Info-Theoretic Dependency)\n",
    "\n",
    "For non-linear dependencies (numeric ↔ categorical)\n",
    "\n",
    "This helps determine which features are informative for predicting attrition, even if not linearly correlated"
   ]
  },
  {
   "cell_type": "code",
   "execution_count": 12,
   "metadata": {},
   "outputs": [
    {
     "name": "stdout",
     "output_type": "stream",
     "text": [
      "[3.02812207e-02 4.32886967e-04 7.51103954e-03 7.80131248e-05\n",
      " 0.00000000e+00 5.66929074e-03 0.00000000e+00 0.00000000e+00\n",
      " 0.00000000e+00 8.34018033e-03 2.70598254e-02 1.64089354e-02\n",
      " 3.22091954e-02 1.99710963e-03 1.43214023e-02 7.43377077e-03\n",
      " 2.90255956e-02 0.00000000e+00 6.97858726e-03 0.00000000e+00\n",
      " 0.00000000e+00 9.10353681e-03 1.11925850e-02 5.73513890e-03\n",
      " 1.01448164e-02 1.44581038e-02 5.73051742e-03 0.00000000e+00\n",
      " 1.30821759e-02 0.00000000e+00 4.63108750e-03 2.36132790e-02\n",
      " 1.12434445e-04 0.00000000e+00 9.59895331e-03 0.00000000e+00\n",
      " 1.21993488e-02 1.23647931e-03 1.96461081e-02 0.00000000e+00\n",
      " 0.00000000e+00 2.21857482e-02 9.52677851e-03 1.34257497e-02\n",
      " 0.00000000e+00 1.29794500e-02 0.00000000e+00 0.00000000e+00\n",
      " 0.00000000e+00 1.43164491e-02 8.32496367e-04 8.69723708e-03\n",
      " 1.11998933e-02]\n"
     ]
    }
   ],
   "source": [
    "from sklearn.feature_selection import mutual_info_classif\n",
    "\n",
    "X = data.drop(\"Attrition\", axis=1)\n",
    "y = data[\"Attrition\"]\n",
    "mi = mutual_info_classif(X, y)\n",
    "print(mi)"
   ]
  },
  {
   "cell_type": "markdown",
   "metadata": {},
   "source": [
    "# PPCA"
   ]
  },
  {
   "cell_type": "code",
   "execution_count": 12,
   "metadata": {},
   "outputs": [
    {
     "data": {
      "image/png": "[encoded data removed]",
      "text/plain": [
       "<Figure size 640x480 with 1 Axes>"
      ]
     },
     "metadata": {},
     "output_type": "display_data"
    },
    {
     "name": "stdout",
     "output_type": "stream",
     "text": [
      "Best latent dimension selected: 6\n",
      "Reduced dataset saved\n"
     ]
    }
   ],
   "source": [
    "np.random.seed(42)\n",
    "\n",
    "# Load dataset\n",
    "df = data.drop(columns=[\n",
    "    \"MonthlyIncome\",\n",
    "    \"TotalWorkingYears\",\n",
    "    \"PerformanceRating\",\n",
    "    \"YearsInCurrentRole\",\n",
    "    \"YearsWithCurrManager\",\n",
    "    \"Department_Human Resources\",\n",
    "    \"Department_Sales\"\n",
    "])\n",
    "\n",
    "# Drop column we are predicting \"Attrition\"\n",
    "target = df[\"Attrition\"]\n",
    "df = df.drop(columns=[\"Attrition\"])\n",
    "\n",
    "# Standardize safely\n",
    "X_np = df.to_numpy()\n",
    "X_mean = np.nanmean(X_np, axis=0)\n",
    "X_std = np.nanstd(X_np, axis=0)\n",
    "\n",
    "# Avoid division by zero\n",
    "X_std[X_std == 0] = 1.0\n",
    "\n",
    "X = (X_np - X_mean) / X_std\n",
    "X = np.nan_to_num(X, nan=0.0, posinf=0.0, neginf=0.0)\n",
    "X = torch.tensor(X, dtype=torch.float32)\n",
    "\n",
    "# Set latent dimension\n",
    "latent_dim = 2\n",
    "\n",
    "# Define PPCA model\n",
    "def ppca_model(X, latent_dim):\n",
    "    N, D = X.shape\n",
    "    W = pyro.sample(\"W\", dist.Normal(0, 1).expand([D, latent_dim]).to_event(2))\n",
    "    sigma  = pyro.sample(\"sigma\",  dist.HalfCauchy(1)) \n",
    "    \n",
    "    with pyro.plate(\"data\", N):\n",
    "        z = pyro.sample(\"z\", dist.Normal(0, 1).expand([latent_dim]).to_event(1))\n",
    "        loc = torch.matmul(z, W.T)\n",
    "        pyro.sample(\"obs\", dist.Normal(loc, sigma).to_event(1), obs=X)\n",
    "\n",
    "# Search for best latent dimension\n",
    "best_latent_dim = None\n",
    "best_elbo = float('-inf')\n",
    "best_z_loc = None\n",
    "\n",
    "elbos = []\n",
    "dims = list(range(1, 11))  # Dimensions from 1 to 10\n",
    "\n",
    "for latent_dim in dims:\n",
    "    pyro.clear_param_store()\n",
    "    \n",
    "    def model_wrapped(X):\n",
    "        return ppca_model(X, latent_dim)\n",
    "\n",
    "    guide = AutoNormal(model_wrapped)\n",
    "    optimizer = Adam({\"lr\": 0.01})\n",
    "    svi = SVI(model_wrapped, guide, optimizer, loss=Trace_ELBO())\n",
    "    \n",
    "    num_steps = 1000\n",
    "    final_loss = None\n",
    "    for step in range(num_steps):\n",
    "        loss = svi.step(X)\n",
    "        final_loss = loss\n",
    "    elbo = -final_loss\n",
    "    elbos.append(elbo)\n",
    "\n",
    "    if elbo > best_elbo:\n",
    "        best_elbo = elbo\n",
    "        best_latent_dim = latent_dim\n",
    "        best_z_loc = guide(X)[\"z\"].detach().numpy()\n",
    "\n",
    "# Plot ELBO vs latent dimensions\n",
    "plt.plot(dims, elbos, marker='o')\n",
    "plt.xlabel('Latent Dimensions')\n",
    "plt.ylabel('ELBO')\n",
    "plt.title('ELBO vs Latent Dimensionality')\n",
    "plt.grid(True)\n",
    "plt.show()\n",
    "\n",
    "print(f\"Best latent dimension selected: {best_latent_dim}\")\n",
    "\n",
    "# Save reduced dataset and merge with target\n",
    "reduced_df = pd.DataFrame(best_z_loc, columns=[f\"z{i+1}\" for i in range(best_latent_dim)])\n",
    "reduced_df[\"Attrition\"] = target.values\n",
    "reduced_df.to_csv(\"data/reduced_dataset.csv\", index=False)\n",
    "\n",
    "print(\"Reduced dataset saved\")"
   ]
  },
  {
   "cell_type": "markdown",
   "metadata": {},
   "source": [
    "# BLR"
   ]
  },
  {
   "cell_type": "code",
   "execution_count": 15,
   "metadata": {},
   "outputs": [
    {
     "name": "stdout",
     "output_type": "stream",
     "text": [
      "Unique values in y (before training): [-2 -1  0  1  2  3  4  5]\n",
      "Any non-binary y values? True\n",
      "X shape: (1470, 4)\n",
      "y shape: (1470,)\n",
      "ind shape: (1470,)\n",
      "num train: 970\n",
      "num test: 500\n"
     ]
    },
    {
     "data": {
      "image/png": "[encoded data removed]",
      "text/plain": [
       "<Figure size 640x480 with 1 Axes>"
      ]
     },
     "metadata": {},
     "output_type": "display_data"
    },
    {
     "ename": "ValueError",
     "evalue": "Error while computing log_prob at site 'y':\nExpected value argument (Tensor of shape (970,)) to be within the support (Boolean()) of the distribution Bernoulli(logits: torch.Size([970])), but found invalid values:\ntensor([ 0.,  0.,  3., -1., -1.,  0., -1.,  0.,  1.,  0.,  0.,  0.,  0., -1.,\n        -1.,  0.,  0.,  0.,  0.,  0.,  0., -1.,  1.,  0.,  0.,  0.,  0.,  0.,\n         0.,  0.,  0.,  0.,  0.,  0.,  0.,  0.,  1.,  0.,  0.,  0.,  0.,  0.,\n         0.,  0.,  0.,  0.,  0., -1.,  0.,  1.,  0.,  0., -1.,  0.,  0.,  0.,\n         0.,  0., -1.,  0.,  1.,  0.,  0.,  0.,  0.,  0.,  0.,  0.,  0.,  0.,\n         1.,  0.,  0.,  0., -1.,  0.,  0.,  0., -1.,  0.,  0.,  3.,  1.,  0.,\n         0.,  0.,  1.,  1.,  0.,  0.,  0.,  0.,  1.,  0.,  0., -1.,  0.,  0.,\n         0.,  0.,  0.,  0.,  1.,  0., -1.,  0.,  0.,  2.,  0.,  0.,  0.,  0.,\n         1.,  0.,  0.,  0.,  0., -1.,  0.,  0.,  0.,  0.,  0.,  0.,  0.,  0.,\n         0.,  0.,  0.,  0.,  1.,  0.,  1.,  0.,  0.,  0.,  0.,  0.,  1., -1.,\n         0.,  0.,  0.,  1.,  0.,  0.,  0.,  0., -1.,  0.,  0.,  0.,  0.,  0.,\n         0.,  0.,  1.,  0., -1., -1.,  0.,  0.,  0.,  0.,  0., -2.,  0.,  0.,\n         0.,  0., -1.,  0.,  0.,  0., -1.,  0.,  0., -1.,  1.,  0., -1.,  0.,\n         0.,  0.,  1.,  1.,  0.,  0.,  0., -1., -1.,  0.,  2.,  0.,  0., -1.,\n         0.,  0., -1., -2.,  0.,  0.,  0.,  1.,  0., -1.,  1.,  0.,  0.,  0.,\n         0.,  1.,  0.,  0.,  0.,  0.,  0.,  0.,  3.,  0.,  0.,  0.,  0.,  0.,\n         0., -1.,  0.,  0.,  1.,  0.,  0.,  0., -1.,  0.,  0., -1.,  0.,  0.,\n         0., -1.,  0.,  2.,  0.,  0.,  0.,  0.,  0.,  0., -1.,  1.,  0.,  2.,\n         0.,  0.,  0.,  0.,  0.,  0.,  0.,  0.,  0.,  0.,  1.,  0.,  1.,  0.,\n         0.,  1.,  0.,  1.,  0.,  1., -1.,  0.,  0.,  1.,  1.,  0.,  0.,  0.,\n         0.,  1., -1.,  0.,  0.,  0.,  1.,  0., -1.,  1., -1., -1., -1.,  0.,\n         0., -1.,  0.,  0., -1.,  3.,  0.,  0.,  0., -1.,  0.,  0.,  0.,  0.,\n         5.,  0.,  0.,  0.,  0.,  0.,  0.,  0.,  0.,  0., -1.,  1.,  0., -2.,\n         0.,  0., -1.,  0.,  0.,  0.,  0.,  0.,  0.,  0.,  0.,  0.,  0.,  0.,\n        -1.,  2.,  0., -1.,  0.,  1.,  0.,  0.,  0., -1.,  0.,  0.,  1.,  0.,\n         0.,  0.,  1.,  0.,  0.,  0.,  0.,  0.,  0.,  0.,  0.,  2.,  0.,  0.,\n         0.,  0.,  2.,  0., -1.,  0.,  0.,  0.,  0.,  1.,  0.,  0.,  0.,  0.,\n         1.,  0.,  0., -1.,  0.,  2.,  0.,  0.,  0.,  0.,  0.,  1.,  0., -1.,\n         0.,  0.,  1., -1.,  0., -1.,  1.,  0.,  0., -1.,  0.,  0.,  0.,  0.,\n        -1.,  0., -1., -1., -1.,  0.,  0.,  4.,  0.,  0.,  0.,  0.,  0.,  0.,\n         0.,  1.,  0.,  0.,  0.,  0.,  0.,  0.,  0., -1., -1.,  0.,  0.,  0.,\n         0.,  0.,  1.,  1., -1.,  1.,  0.,  0.,  0.,  0.,  1.,  0.,  0., -1.,\n         0.,  0.,  1.,  0.,  0.,  0.,  0., -1.,  0.,  0.,  0.,  0.,  0.,  3.,\n        -1.,  0.,  0.,  0.,  0.,  0.,  0., -1.,  0.,  0., -1.,  0.,  0.,  0.,\n         0.,  0.,  1.,  0.,  1.,  0.,  0.,  0.,  0.,  0.,  0.,  0.,  1.,  0.,\n         0.,  0.,  0.,  0.,  0.,  0.,  1.,  0.,  0.,  0.,  0.,  1.,  0.,  0.,\n         0., -1.,  0.,  0.,  0.,  0.,  0.,  0.,  0., -1.,  0., -1.,  0., -1.,\n         0.,  0.,  0.,  0.,  0., -1.,  0.,  0., -1.,  1.,  0.,  1.,  0.,  0.,\n         0.,  1.,  0.,  0., -2.,  0., -1., -2.,  1.,  0.,  0.,  1.,  0.,  1.,\n         0.,  0.,  0.,  3.,  0.,  0.,  0.,  0.,  0.,  0.,  0.,  0.,  0.,  0.,\n         1.,  0.,  0.,  0.,  0.,  0.,  0.,  1.,  0.,  0., -1.,  0.,  0.,  0.,\n        -1.,  0.,  1.,  0.,  1.,  0.,  0.,  0.,  0.,  0.,  0.,  0.,  0.,  0.,\n         1.,  0.,  0.,  0.,  0.,  0.,  1.,  0.,  0.,  3.,  1.,  0.,  0.,  0.,\n         0.,  0.,  0., -1., -1.,  0.,  1.,  0.,  0.,  0.,  0.,  0., -1., -1.,\n         0.,  0.,  2.,  0.,  0.,  0.,  0.,  0.,  0.,  0.,  0.,  0.,  0.,  0.,\n         0.,  0.,  0., -1.,  0.,  1.,  0.,  0.,  0.,  0., -1.,  0.,  0., -1.,\n         0.,  0.,  0.,  0.,  0.,  0.,  0.,  0.,  0.,  0.,  0.,  0., -1., -1.,\n         0.,  0.,  0.,  0.,  0.,  0.,  3.,  0.,  0.,  0.,  0.,  0.,  0.,  0.,\n        -1.,  0.,  0.,  0.,  0., -1.,  0.,  0.,  1.,  0., -1., -1.,  0.,  0.,\n         0., -1.,  0.,  0.,  0.,  0.,  0.,  0., -1.,  0.,  0.,  0.,  1.,  0.,\n         0.,  0.,  3.,  0.,  0.,  2.,  0.,  0.,  0.,  1.,  0.,  0.,  1.,  0.,\n         1.,  0.,  0., -1.,  3.,  3.,  0.,  0., -1.,  0.,  0., -1.,  0.,  0.,\n         0.,  0.,  0.,  1.,  0.,  0.,  0., -1.,  0.,  0.,  0.,  1.,  0.,  0.,\n         0.,  0.,  0.,  0.,  0., -1.,  0.,  0.,  0.,  1.,  0.,  0.,  0.,  0.,\n         0.,  0., -1.,  0.,  1.,  0.,  0.,  0.,  0.,  0.,  0., -1.,  0., -1.,\n         0.,  0.,  0., -1.,  0.,  0.,  0.,  0.,  0.,  0.,  0.,  0.,  0.,  0.,\n         0.,  0., -2.,  0.,  0.,  1.,  0.,  0.,  0.,  1.,  0.,  0.,  0.,  1.,\n         0.,  0.,  0.,  0.,  0.,  0., -1.,  0.,  1.,  0.,  1.,  1.,  1.,  0.,\n         0.,  0.,  0.,  0.,  0.,  0.,  0.,  0.,  0.,  0.,  0.,  0.,  0., -1.,\n        -1.,  0.,  0.,  0.,  0.,  0.,  0.,  0.,  3.,  0., -1.,  1.,  0.,  1.,\n         0.,  0.,  0.,  1., -1.,  0.,  0.,  0.,  0.,  0.,  0.,  0.,  0.,  0.,\n         0.,  0.,  0.,  0.,  1.,  0.,  0.,  0.,  0.,  0.,  0.,  0.,  0.,  0.,\n         0.,  0.,  1.,  0.,  0.,  0.,  0.,  0.,  0.,  0., -1., -1.,  0.,  0.,\n         0.,  0.,  0.,  0.,  0.,  0.,  0.,  0.,  0.,  0.,  0.,  0.,  0., -1.,\n         0.,  0.,  0., -1.,  0.,  0., -1.,  0.,  0.,  0., -1.,  0.,  0.,  0.,\n         0.,  0.,  0.,  0.,  1., -1.,  0.,  0.,  0.,  0.,  0., -1., -1.,  0.,\n         1.,  0.,  0., -1.,  0.,  0.,  0.,  1.,  0.,  0.,  0.,  0.,  0.,  0.,\n        -1., -1., -1.,  0.,  1., -1.,  0., -1.,  0.,  0.,  0.,  0.,  1.,  2.,\n         0.,  0.,  0.,  1., -1.,  0.,  3.,  0., -1.,  0.,  0.,  0., -1.,  0.,\n         0.,  2.,  1.,  0.])\n Trace Shapes:          \n  Param Sites:          \n Sample Sites:          \n     beta dist     | 4 1\n         value     | 4 1\n      log_prob     |    \nintercept dist     |    \n         value     |    \n      log_prob     |    \n        y dist 970 |    \n         value 970 |    ",
     "output_type": "error",
     "traceback": [
      "\u001b[0;31m---------------------------------------------------------------------------\u001b[0m",
      "\u001b[0;31mValueError\u001b[0m                                Traceback (most recent call last)",
      "File \u001b[0;32m~/Library/Python/3.9/lib/python/site-packages/pyro/poutine/trace_struct.py:264\u001b[0m, in \u001b[0;36mTrace.compute_log_prob\u001b[0;34m(self, site_filter)\u001b[0m\n\u001b[1;32m    263\u001b[0m \u001b[39mtry\u001b[39;00m:\n\u001b[0;32m--> 264\u001b[0m     log_p \u001b[39m=\u001b[39m site[\u001b[39m\"\u001b[39;49m\u001b[39mfn\u001b[39;49m\u001b[39m\"\u001b[39;49m]\u001b[39m.\u001b[39;49mlog_prob(\n\u001b[1;32m    265\u001b[0m         site[\u001b[39m\"\u001b[39;49m\u001b[39mvalue\u001b[39;49m\u001b[39m\"\u001b[39;49m], \u001b[39m*\u001b[39;49msite[\u001b[39m\"\u001b[39;49m\u001b[39margs\u001b[39;49m\u001b[39m\"\u001b[39;49m], \u001b[39m*\u001b[39;49m\u001b[39m*\u001b[39;49msite[\u001b[39m\"\u001b[39;49m\u001b[39mkwargs\u001b[39;49m\u001b[39m\"\u001b[39;49m]\n\u001b[1;32m    266\u001b[0m     )\n\u001b[1;32m    267\u001b[0m \u001b[39mexcept\u001b[39;00m \u001b[39mValueError\u001b[39;00m \u001b[39mas\u001b[39;00m e:\n",
      "File \u001b[0;32m~/Library/Python/3.9/lib/python/site-packages/torch/distributions/bernoulli.py:111\u001b[0m, in \u001b[0;36mBernoulli.log_prob\u001b[0;34m(self, value)\u001b[0m\n\u001b[1;32m    110\u001b[0m \u001b[39mif\u001b[39;00m \u001b[39mself\u001b[39m\u001b[39m.\u001b[39m_validate_args:\n\u001b[0;32m--> 111\u001b[0m     \u001b[39mself\u001b[39;49m\u001b[39m.\u001b[39;49m_validate_sample(value)\n\u001b[1;32m    112\u001b[0m logits, value \u001b[39m=\u001b[39m broadcast_all(\u001b[39mself\u001b[39m\u001b[39m.\u001b[39mlogits, value)\n",
      "File \u001b[0;32m~/Library/Python/3.9/lib/python/site-packages/torch/distributions/distribution.py:316\u001b[0m, in \u001b[0;36mDistribution._validate_sample\u001b[0;34m(self, value)\u001b[0m\n\u001b[1;32m    315\u001b[0m \u001b[39mif\u001b[39;00m \u001b[39mnot\u001b[39;00m valid\u001b[39m.\u001b[39mall():\n\u001b[0;32m--> 316\u001b[0m     \u001b[39mraise\u001b[39;00m \u001b[39mValueError\u001b[39;00m(\n\u001b[1;32m    317\u001b[0m         \u001b[39m\"\u001b[39m\u001b[39mExpected value argument \u001b[39m\u001b[39m\"\u001b[39m\n\u001b[1;32m    318\u001b[0m         \u001b[39mf\u001b[39m\u001b[39m\"\u001b[39m\u001b[39m(\u001b[39m\u001b[39m{\u001b[39;00m\u001b[39mtype\u001b[39m(value)\u001b[39m.\u001b[39m\u001b[39m__name__\u001b[39m\u001b[39m}\u001b[39;00m\u001b[39m of shape \u001b[39m\u001b[39m{\u001b[39;00m\u001b[39mtuple\u001b[39m(value\u001b[39m.\u001b[39mshape)\u001b[39m}\u001b[39;00m\u001b[39m) \u001b[39m\u001b[39m\"\u001b[39m\n\u001b[1;32m    319\u001b[0m         \u001b[39mf\u001b[39m\u001b[39m\"\u001b[39m\u001b[39mto be within the support (\u001b[39m\u001b[39m{\u001b[39;00m\u001b[39mrepr\u001b[39m(support)\u001b[39m}\u001b[39;00m\u001b[39m) \u001b[39m\u001b[39m\"\u001b[39m\n\u001b[1;32m    320\u001b[0m         \u001b[39mf\u001b[39m\u001b[39m\"\u001b[39m\u001b[39mof the distribution \u001b[39m\u001b[39m{\u001b[39;00m\u001b[39mrepr\u001b[39m(\u001b[39mself\u001b[39m)\u001b[39m}\u001b[39;00m\u001b[39m, \u001b[39m\u001b[39m\"\u001b[39m\n\u001b[1;32m    321\u001b[0m         \u001b[39mf\u001b[39m\u001b[39m\"\u001b[39m\u001b[39mbut found invalid values:\u001b[39m\u001b[39m\\n\u001b[39;00m\u001b[39m{\u001b[39;00mvalue\u001b[39m}\u001b[39;00m\u001b[39m\"\u001b[39m\n\u001b[1;32m    322\u001b[0m     )\n",
      "\u001b[0;31mValueError\u001b[0m: Expected value argument (Tensor of shape (970,)) to be within the support (Boolean()) of the distribution Bernoulli(logits: torch.Size([970])), but found invalid values:\ntensor([ 0.,  0.,  3., -1., -1.,  0., -1.,  0.,  1.,  0.,  0.,  0.,  0., -1.,\n        -1.,  0.,  0.,  0.,  0.,  0.,  0., -1.,  1.,  0.,  0.,  0.,  0.,  0.,\n         0.,  0.,  0.,  0.,  0.,  0.,  0.,  0.,  1.,  0.,  0.,  0.,  0.,  0.,\n         0.,  0.,  0.,  0.,  0., -1.,  0.,  1.,  0.,  0., -1.,  0.,  0.,  0.,\n         0.,  0., -1.,  0.,  1.,  0.,  0.,  0.,  0.,  0.,  0.,  0.,  0.,  0.,\n         1.,  0.,  0.,  0., -1.,  0.,  0.,  0., -1.,  0.,  0.,  3.,  1.,  0.,\n         0.,  0.,  1.,  1.,  0.,  0.,  0.,  0.,  1.,  0.,  0., -1.,  0.,  0.,\n         0.,  0.,  0.,  0.,  1.,  0., -1.,  0.,  0.,  2.,  0.,  0.,  0.,  0.,\n         1.,  0.,  0.,  0.,  0., -1.,  0.,  0.,  0.,  0.,  0.,  0.,  0.,  0.,\n         0.,  0.,  0.,  0.,  1.,  0.,  1.,  0.,  0.,  0.,  0.,  0.,  1., -1.,\n         0.,  0.,  0.,  1.,  0.,  0.,  0.,  0., -1.,  0.,  0.,  0.,  0.,  0.,\n         0.,  0.,  1.,  0., -1., -1.,  0.,  0.,  0.,  0.,  0., -2.,  0.,  0.,\n         0.,  0., -1.,  0.,  0.,  0., -1.,  0.,  0., -1.,  1.,  0., -1.,  0.,\n         0.,  0.,  1.,  1.,  0.,  0.,  0., -1., -1.,  0.,  2.,  0.,  0., -1.,\n         0.,  0., -1., -2.,  0.,  0.,  0.,  1.,  0., -1.,  1.,  0.,  0.,  0.,\n         0.,  1.,  0.,  0.,  0.,  0.,  0.,  0.,  3.,  0.,  0.,  0.,  0.,  0.,\n         0., -1.,  0.,  0.,  1.,  0.,  0.,  0., -1.,  0.,  0., -1.,  0.,  0.,\n         0., -1.,  0.,  2.,  0.,  0.,  0.,  0.,  0.,  0., -1.,  1.,  0.,  2.,\n         0.,  0.,  0.,  0.,  0.,  0.,  0.,  0.,  0.,  0.,  1.,  0.,  1.,  0.,\n         0.,  1.,  0.,  1.,  0.,  1., -1.,  0.,  0.,  1.,  1.,  0.,  0.,  0.,\n         0.,  1., -1.,  0.,  0.,  0.,  1.,  0., -1.,  1., -1., -1., -1.,  0.,\n         0., -1.,  0.,  0., -1.,  3.,  0.,  0.,  0., -1.,  0.,  0.,  0.,  0.,\n         5.,  0.,  0.,  0.,  0.,  0.,  0.,  0.,  0.,  0., -1.,  1.,  0., -2.,\n         0.,  0., -1.,  0.,  0.,  0.,  0.,  0.,  0.,  0.,  0.,  0.,  0.,  0.,\n        -1.,  2.,  0., -1.,  0.,  1.,  0.,  0.,  0., -1.,  0.,  0.,  1.,  0.,\n         0.,  0.,  1.,  0.,  0.,  0.,  0.,  0.,  0.,  0.,  0.,  2.,  0.,  0.,\n         0.,  0.,  2.,  0., -1.,  0.,  0.,  0.,  0.,  1.,  0.,  0.,  0.,  0.,\n         1.,  0.,  0., -1.,  0.,  2.,  0.,  0.,  0.,  0.,  0.,  1.,  0., -1.,\n         0.,  0.,  1., -1.,  0., -1.,  1.,  0.,  0., -1.,  0.,  0.,  0.,  0.,\n        -1.,  0., -1., -1., -1.,  0.,  0.,  4.,  0.,  0.,  0.,  0.,  0.,  0.,\n         0.,  1.,  0.,  0.,  0.,  0.,  0.,  0.,  0., -1., -1.,  0.,  0.,  0.,\n         0.,  0.,  1.,  1., -1.,  1.,  0.,  0.,  0.,  0.,  1.,  0.,  0., -1.,\n         0.,  0.,  1.,  0.,  0.,  0.,  0., -1.,  0.,  0.,  0.,  0.,  0.,  3.,\n        -1.,  0.,  0.,  0.,  0.,  0.,  0., -1.,  0.,  0., -1.,  0.,  0.,  0.,\n         0.,  0.,  1.,  0.,  1.,  0.,  0.,  0.,  0.,  0.,  0.,  0.,  1.,  0.,\n         0.,  0.,  0.,  0.,  0.,  0.,  1.,  0.,  0.,  0.,  0.,  1.,  0.,  0.,\n         0., -1.,  0.,  0.,  0.,  0.,  0.,  0.,  0., -1.,  0., -1.,  0., -1.,\n         0.,  0.,  0.,  0.,  0., -1.,  0.,  0., -1.,  1.,  0.,  1.,  0.,  0.,\n         0.,  1.,  0.,  0., -2.,  0., -1., -2.,  1.,  0.,  0.,  1.,  0.,  1.,\n         0.,  0.,  0.,  3.,  0.,  0.,  0.,  0.,  0.,  0.,  0.,  0.,  0.,  0.,\n         1.,  0.,  0.,  0.,  0.,  0.,  0.,  1.,  0.,  0., -1.,  0.,  0.,  0.,\n        -1.,  0.,  1.,  0.,  1.,  0.,  0.,  0.,  0.,  0.,  0.,  0.,  0.,  0.,\n         1.,  0.,  0.,  0.,  0.,  0.,  1.,  0.,  0.,  3.,  1.,  0.,  0.,  0.,\n         0.,  0.,  0., -1., -1.,  0.,  1.,  0.,  0.,  0.,  0.,  0., -1., -1.,\n         0.,  0.,  2.,  0.,  0.,  0.,  0.,  0.,  0.,  0.,  0.,  0.,  0.,  0.,\n         0.,  0.,  0., -1.,  0.,  1.,  0.,  0.,  0.,  0., -1.,  0.,  0., -1.,\n         0.,  0.,  0.,  0.,  0.,  0.,  0.,  0.,  0.,  0.,  0.,  0., -1., -1.,\n         0.,  0.,  0.,  0.,  0.,  0.,  3.,  0.,  0.,  0.,  0.,  0.,  0.,  0.,\n        -1.,  0.,  0.,  0.,  0., -1.,  0.,  0.,  1.,  0., -1., -1.,  0.,  0.,\n         0., -1.,  0.,  0.,  0.,  0.,  0.,  0., -1.,  0.,  0.,  0.,  1.,  0.,\n         0.,  0.,  3.,  0.,  0.,  2.,  0.,  0.,  0.,  1.,  0.,  0.,  1.,  0.,\n         1.,  0.,  0., -1.,  3.,  3.,  0.,  0., -1.,  0.,  0., -1.,  0.,  0.,\n         0.,  0.,  0.,  1.,  0.,  0.,  0., -1.,  0.,  0.,  0.,  1.,  0.,  0.,\n         0.,  0.,  0.,  0.,  0., -1.,  0.,  0.,  0.,  1.,  0.,  0.,  0.,  0.,\n         0.,  0., -1.,  0.,  1.,  0.,  0.,  0.,  0.,  0.,  0., -1.,  0., -1.,\n         0.,  0.,  0., -1.,  0.,  0.,  0.,  0.,  0.,  0.,  0.,  0.,  0.,  0.,\n         0.,  0., -2.,  0.,  0.,  1.,  0.,  0.,  0.,  1.,  0.,  0.,  0.,  1.,\n         0.,  0.,  0.,  0.,  0.,  0., -1.,  0.,  1.,  0.,  1.,  1.,  1.,  0.,\n         0.,  0.,  0.,  0.,  0.,  0.,  0.,  0.,  0.,  0.,  0.,  0.,  0., -1.,\n        -1.,  0.,  0.,  0.,  0.,  0.,  0.,  0.,  3.,  0., -1.,  1.,  0.,  1.,\n         0.,  0.,  0.,  1., -1.,  0.,  0.,  0.,  0.,  0.,  0.,  0.,  0.,  0.,\n         0.,  0.,  0.,  0.,  1.,  0.,  0.,  0.,  0.,  0.,  0.,  0.,  0.,  0.,\n         0.,  0.,  1.,  0.,  0.,  0.,  0.,  0.,  0.,  0., -1., -1.,  0.,  0.,\n         0.,  0.,  0.,  0.,  0.,  0.,  0.,  0.,  0.,  0.,  0.,  0.,  0., -1.,\n         0.,  0.,  0., -1.,  0.,  0., -1.,  0.,  0.,  0., -1.,  0.,  0.,  0.,\n         0.,  0.,  0.,  0.,  1., -1.,  0.,  0.,  0.,  0.,  0., -1., -1.,  0.,\n         1.,  0.,  0., -1.,  0.,  0.,  0.,  1.,  0.,  0.,  0.,  0.,  0.,  0.,\n        -1., -1., -1.,  0.,  1., -1.,  0., -1.,  0.,  0.,  0.,  0.,  1.,  2.,\n         0.,  0.,  0.,  1., -1.,  0.,  3.,  0., -1.,  0.,  0.,  0., -1.,  0.,\n         0.,  2.,  1.,  0.])",
      "\nThe above exception was the direct cause of the following exception:\n",
      "\u001b[0;31mValueError\u001b[0m                                Traceback (most recent call last)",
      "\u001b[1;32m/Users/paulagranlund/Documents/GitHub/pgm_binary_log_reg/notebook.ipynb Cell 21\u001b[0m line \u001b[0;36m7\n\u001b[1;32m     <a href='vscode-notebook-cell:/Users/paulagranlund/Documents/GitHub/pgm_binary_log_reg/notebook.ipynb#X25sZmlsZQ%3D%3D?line=76'>77</a>\u001b[0m n_steps \u001b[39m=\u001b[39m \u001b[39m40000\u001b[39m\n\u001b[1;32m     <a href='vscode-notebook-cell:/Users/paulagranlund/Documents/GitHub/pgm_binary_log_reg/notebook.ipynb#X25sZmlsZQ%3D%3D?line=77'>78</a>\u001b[0m \u001b[39mfor\u001b[39;00m step \u001b[39min\u001b[39;00m \u001b[39mrange\u001b[39m(n_steps):\n\u001b[0;32m---> <a href='vscode-notebook-cell:/Users/paulagranlund/Documents/GitHub/pgm_binary_log_reg/notebook.ipynb#X25sZmlsZQ%3D%3D?line=78'>79</a>\u001b[0m     loss \u001b[39m=\u001b[39m svi\u001b[39m.\u001b[39;49mstep(X_train, n_cat\u001b[39m=\u001b[39;49m\u001b[39mNone\u001b[39;49;00m, y\u001b[39m=\u001b[39;49my_train\u001b[39m.\u001b[39;49mfloat())\n\u001b[1;32m     <a href='vscode-notebook-cell:/Users/paulagranlund/Documents/GitHub/pgm_binary_log_reg/notebook.ipynb#X25sZmlsZQ%3D%3D?line=79'>80</a>\u001b[0m     \u001b[39mif\u001b[39;00m step \u001b[39m%\u001b[39m \u001b[39m1000\u001b[39m \u001b[39m==\u001b[39m \u001b[39m0\u001b[39m:\n\u001b[1;32m     <a href='vscode-notebook-cell:/Users/paulagranlund/Documents/GitHub/pgm_binary_log_reg/notebook.ipynb#X25sZmlsZQ%3D%3D?line=80'>81</a>\u001b[0m         \u001b[39mprint\u001b[39m(\u001b[39mf\u001b[39m\u001b[39m\"\u001b[39m\u001b[39m[Step \u001b[39m\u001b[39m{\u001b[39;00mstep\u001b[39m}\u001b[39;00m\u001b[39m] ELBO: \u001b[39m\u001b[39m{\u001b[39;00mloss\u001b[39m:\u001b[39;00m\u001b[39m.2f\u001b[39m\u001b[39m}\u001b[39;00m\u001b[39m\"\u001b[39m)\n",
      "File \u001b[0;32m~/Library/Python/3.9/lib/python/site-packages/pyro/infer/svi.py:145\u001b[0m, in \u001b[0;36mSVI.step\u001b[0;34m(self, *args, **kwargs)\u001b[0m\n\u001b[1;32m    143\u001b[0m \u001b[39m# get loss and compute gradients\u001b[39;00m\n\u001b[1;32m    144\u001b[0m \u001b[39mwith\u001b[39;00m poutine\u001b[39m.\u001b[39mtrace(param_only\u001b[39m=\u001b[39m\u001b[39mTrue\u001b[39;00m) \u001b[39mas\u001b[39;00m param_capture:\n\u001b[0;32m--> 145\u001b[0m     loss \u001b[39m=\u001b[39m \u001b[39mself\u001b[39;49m\u001b[39m.\u001b[39;49mloss_and_grads(\u001b[39mself\u001b[39;49m\u001b[39m.\u001b[39;49mmodel, \u001b[39mself\u001b[39;49m\u001b[39m.\u001b[39;49mguide, \u001b[39m*\u001b[39;49margs, \u001b[39m*\u001b[39;49m\u001b[39m*\u001b[39;49mkwargs)\n\u001b[1;32m    147\u001b[0m params \u001b[39m=\u001b[39m \u001b[39mset\u001b[39m(\n\u001b[1;32m    148\u001b[0m     site[\u001b[39m\"\u001b[39m\u001b[39mvalue\u001b[39m\u001b[39m\"\u001b[39m]\u001b[39m.\u001b[39munconstrained() \u001b[39mfor\u001b[39;00m site \u001b[39min\u001b[39;00m param_capture\u001b[39m.\u001b[39mtrace\u001b[39m.\u001b[39mnodes\u001b[39m.\u001b[39mvalues()\n\u001b[1;32m    149\u001b[0m )\n\u001b[1;32m    151\u001b[0m \u001b[39m# actually perform gradient steps\u001b[39;00m\n\u001b[1;32m    152\u001b[0m \u001b[39m# torch.optim objects gets instantiated for any params that haven't been seen yet\u001b[39;00m\n",
      "File \u001b[0;32m~/Library/Python/3.9/lib/python/site-packages/pyro/infer/trace_elbo.py:140\u001b[0m, in \u001b[0;36mTrace_ELBO.loss_and_grads\u001b[0;34m(self, model, guide, *args, **kwargs)\u001b[0m\n\u001b[1;32m    138\u001b[0m loss \u001b[39m=\u001b[39m \u001b[39m0.0\u001b[39m\n\u001b[1;32m    139\u001b[0m \u001b[39m# grab a trace from the generator\u001b[39;00m\n\u001b[0;32m--> 140\u001b[0m \u001b[39mfor\u001b[39;00m model_trace, guide_trace \u001b[39min\u001b[39;00m \u001b[39mself\u001b[39m\u001b[39m.\u001b[39m_get_traces(model, guide, args, kwargs):\n\u001b[1;32m    141\u001b[0m     loss_particle, surrogate_loss_particle \u001b[39m=\u001b[39m \u001b[39mself\u001b[39m\u001b[39m.\u001b[39m_differentiable_loss_particle(\n\u001b[1;32m    142\u001b[0m         model_trace, guide_trace\n\u001b[1;32m    143\u001b[0m     )\n\u001b[1;32m    144\u001b[0m     loss \u001b[39m+\u001b[39m\u001b[39m=\u001b[39m loss_particle \u001b[39m/\u001b[39m \u001b[39mself\u001b[39m\u001b[39m.\u001b[39mnum_particles\n",
      "File \u001b[0;32m~/Library/Python/3.9/lib/python/site-packages/pyro/infer/elbo.py:237\u001b[0m, in \u001b[0;36mELBO._get_traces\u001b[0;34m(self, model, guide, args, kwargs)\u001b[0m\n\u001b[1;32m    235\u001b[0m \u001b[39melse\u001b[39;00m:\n\u001b[1;32m    236\u001b[0m     \u001b[39mfor\u001b[39;00m i \u001b[39min\u001b[39;00m \u001b[39mrange\u001b[39m(\u001b[39mself\u001b[39m\u001b[39m.\u001b[39mnum_particles):\n\u001b[0;32m--> 237\u001b[0m         \u001b[39myield\u001b[39;00m \u001b[39mself\u001b[39;49m\u001b[39m.\u001b[39;49m_get_trace(model, guide, args, kwargs)\n",
      "File \u001b[0;32m~/Library/Python/3.9/lib/python/site-packages/pyro/infer/trace_elbo.py:57\u001b[0m, in \u001b[0;36mTrace_ELBO._get_trace\u001b[0;34m(self, model, guide, args, kwargs)\u001b[0m\n\u001b[1;32m     52\u001b[0m \u001b[39mdef\u001b[39;00m \u001b[39m_get_trace\u001b[39m(\u001b[39mself\u001b[39m, model, guide, args, kwargs):\n\u001b[1;32m     53\u001b[0m \u001b[39m    \u001b[39m\u001b[39m\"\"\"\u001b[39;00m\n\u001b[1;32m     54\u001b[0m \u001b[39m    Returns a single trace from the guide, and the model that is run\u001b[39;00m\n\u001b[1;32m     55\u001b[0m \u001b[39m    against it.\u001b[39;00m\n\u001b[1;32m     56\u001b[0m \u001b[39m    \"\"\"\u001b[39;00m\n\u001b[0;32m---> 57\u001b[0m     model_trace, guide_trace \u001b[39m=\u001b[39m get_importance_trace(\n\u001b[1;32m     58\u001b[0m         \u001b[39m\"\u001b[39;49m\u001b[39mflat\u001b[39;49m\u001b[39m\"\u001b[39;49m, \u001b[39mself\u001b[39;49m\u001b[39m.\u001b[39;49mmax_plate_nesting, model, guide, args, kwargs\n\u001b[1;32m     59\u001b[0m     )\n\u001b[1;32m     60\u001b[0m     \u001b[39mif\u001b[39;00m is_validation_enabled():\n\u001b[1;32m     61\u001b[0m         check_if_enumerated(guide_trace)\n",
      "File \u001b[0;32m~/Library/Python/3.9/lib/python/site-packages/pyro/infer/enum.py:75\u001b[0m, in \u001b[0;36mget_importance_trace\u001b[0;34m(graph_type, max_plate_nesting, model, guide, args, kwargs, detach)\u001b[0m\n\u001b[1;32m     72\u001b[0m guide_trace \u001b[39m=\u001b[39m prune_subsample_sites(guide_trace)\n\u001b[1;32m     73\u001b[0m model_trace \u001b[39m=\u001b[39m prune_subsample_sites(model_trace)\n\u001b[0;32m---> 75\u001b[0m model_trace\u001b[39m.\u001b[39;49mcompute_log_prob()\n\u001b[1;32m     76\u001b[0m guide_trace\u001b[39m.\u001b[39mcompute_score_parts()\n\u001b[1;32m     77\u001b[0m \u001b[39mif\u001b[39;00m is_validation_enabled():\n",
      "File \u001b[0;32m~/Library/Python/3.9/lib/python/site-packages/pyro/poutine/trace_struct.py:270\u001b[0m, in \u001b[0;36mTrace.compute_log_prob\u001b[0;34m(self, site_filter)\u001b[0m\n\u001b[1;32m    268\u001b[0m     _, exc_value, traceback \u001b[39m=\u001b[39m sys\u001b[39m.\u001b[39mexc_info()\n\u001b[1;32m    269\u001b[0m     shapes \u001b[39m=\u001b[39m \u001b[39mself\u001b[39m\u001b[39m.\u001b[39mformat_shapes(last_site\u001b[39m=\u001b[39msite[\u001b[39m\"\u001b[39m\u001b[39mname\u001b[39m\u001b[39m\"\u001b[39m])\n\u001b[0;32m--> 270\u001b[0m     \u001b[39mraise\u001b[39;00m \u001b[39mValueError\u001b[39;00m(\n\u001b[1;32m    271\u001b[0m         \u001b[39m\"\u001b[39m\u001b[39mError while computing log_prob at site \u001b[39m\u001b[39m'\u001b[39m\u001b[39m{}\u001b[39;00m\u001b[39m'\u001b[39m\u001b[39m:\u001b[39m\u001b[39m\\n\u001b[39;00m\u001b[39m{}\u001b[39;00m\u001b[39m\\n\u001b[39;00m\u001b[39m{}\u001b[39;00m\u001b[39m\"\u001b[39m\u001b[39m.\u001b[39mformat(\n\u001b[1;32m    272\u001b[0m             name, exc_value, shapes\n\u001b[1;32m    273\u001b[0m         )\n\u001b[1;32m    274\u001b[0m     )\u001b[39m.\u001b[39mwith_traceback(traceback) \u001b[39mfrom\u001b[39;00m \u001b[39me\u001b[39;00m\n\u001b[1;32m    275\u001b[0m site[\u001b[39m\"\u001b[39m\u001b[39munscaled_log_prob\u001b[39m\u001b[39m\"\u001b[39m] \u001b[39m=\u001b[39m log_p\n\u001b[1;32m    276\u001b[0m log_p \u001b[39m=\u001b[39m scale_and_mask(log_p, site[\u001b[39m\"\u001b[39m\u001b[39mscale\u001b[39m\u001b[39m\"\u001b[39m], site[\u001b[39m\"\u001b[39m\u001b[39mmask\u001b[39m\u001b[39m\"\u001b[39m])\n",
      "File \u001b[0;32m~/Library/Python/3.9/lib/python/site-packages/pyro/poutine/trace_struct.py:264\u001b[0m, in \u001b[0;36mTrace.compute_log_prob\u001b[0;34m(self, site_filter)\u001b[0m\n\u001b[1;32m    262\u001b[0m \u001b[39mif\u001b[39;00m \u001b[39m\"\u001b[39m\u001b[39mlog_prob\u001b[39m\u001b[39m\"\u001b[39m \u001b[39mnot\u001b[39;00m \u001b[39min\u001b[39;00m site:\n\u001b[1;32m    263\u001b[0m     \u001b[39mtry\u001b[39;00m:\n\u001b[0;32m--> 264\u001b[0m         log_p \u001b[39m=\u001b[39m site[\u001b[39m\"\u001b[39;49m\u001b[39mfn\u001b[39;49m\u001b[39m\"\u001b[39;49m]\u001b[39m.\u001b[39;49mlog_prob(\n\u001b[1;32m    265\u001b[0m             site[\u001b[39m\"\u001b[39;49m\u001b[39mvalue\u001b[39;49m\u001b[39m\"\u001b[39;49m], \u001b[39m*\u001b[39;49msite[\u001b[39m\"\u001b[39;49m\u001b[39margs\u001b[39;49m\u001b[39m\"\u001b[39;49m], \u001b[39m*\u001b[39;49m\u001b[39m*\u001b[39;49msite[\u001b[39m\"\u001b[39;49m\u001b[39mkwargs\u001b[39;49m\u001b[39m\"\u001b[39;49m]\n\u001b[1;32m    266\u001b[0m         )\n\u001b[1;32m    267\u001b[0m     \u001b[39mexcept\u001b[39;00m \u001b[39mValueError\u001b[39;00m \u001b[39mas\u001b[39;00m e:\n\u001b[1;32m    268\u001b[0m         _, exc_value, traceback \u001b[39m=\u001b[39m sys\u001b[39m.\u001b[39mexc_info()\n",
      "File \u001b[0;32m~/Library/Python/3.9/lib/python/site-packages/torch/distributions/bernoulli.py:111\u001b[0m, in \u001b[0;36mBernoulli.log_prob\u001b[0;34m(self, value)\u001b[0m\n\u001b[1;32m    109\u001b[0m \u001b[39mdef\u001b[39;00m \u001b[39mlog_prob\u001b[39m(\u001b[39mself\u001b[39m, value):\n\u001b[1;32m    110\u001b[0m     \u001b[39mif\u001b[39;00m \u001b[39mself\u001b[39m\u001b[39m.\u001b[39m_validate_args:\n\u001b[0;32m--> 111\u001b[0m         \u001b[39mself\u001b[39;49m\u001b[39m.\u001b[39;49m_validate_sample(value)\n\u001b[1;32m    112\u001b[0m     logits, value \u001b[39m=\u001b[39m broadcast_all(\u001b[39mself\u001b[39m\u001b[39m.\u001b[39mlogits, value)\n\u001b[1;32m    113\u001b[0m     \u001b[39mreturn\u001b[39;00m \u001b[39m-\u001b[39mbinary_cross_entropy_with_logits(logits, value, reduction\u001b[39m=\u001b[39m\u001b[39m\"\u001b[39m\u001b[39mnone\u001b[39m\u001b[39m\"\u001b[39m)\n",
      "File \u001b[0;32m~/Library/Python/3.9/lib/python/site-packages/torch/distributions/distribution.py:316\u001b[0m, in \u001b[0;36mDistribution._validate_sample\u001b[0;34m(self, value)\u001b[0m\n\u001b[1;32m    314\u001b[0m valid \u001b[39m=\u001b[39m support\u001b[39m.\u001b[39mcheck(value)\n\u001b[1;32m    315\u001b[0m \u001b[39mif\u001b[39;00m \u001b[39mnot\u001b[39;00m valid\u001b[39m.\u001b[39mall():\n\u001b[0;32m--> 316\u001b[0m     \u001b[39mraise\u001b[39;00m \u001b[39mValueError\u001b[39;00m(\n\u001b[1;32m    317\u001b[0m         \u001b[39m\"\u001b[39m\u001b[39mExpected value argument \u001b[39m\u001b[39m\"\u001b[39m\n\u001b[1;32m    318\u001b[0m         \u001b[39mf\u001b[39m\u001b[39m\"\u001b[39m\u001b[39m(\u001b[39m\u001b[39m{\u001b[39;00m\u001b[39mtype\u001b[39m(value)\u001b[39m.\u001b[39m\u001b[39m__name__\u001b[39m\u001b[39m}\u001b[39;00m\u001b[39m of shape \u001b[39m\u001b[39m{\u001b[39;00m\u001b[39mtuple\u001b[39m(value\u001b[39m.\u001b[39mshape)\u001b[39m}\u001b[39;00m\u001b[39m) \u001b[39m\u001b[39m\"\u001b[39m\n\u001b[1;32m    319\u001b[0m         \u001b[39mf\u001b[39m\u001b[39m\"\u001b[39m\u001b[39mto be within the support (\u001b[39m\u001b[39m{\u001b[39;00m\u001b[39mrepr\u001b[39m(support)\u001b[39m}\u001b[39;00m\u001b[39m) \u001b[39m\u001b[39m\"\u001b[39m\n\u001b[1;32m    320\u001b[0m         \u001b[39mf\u001b[39m\u001b[39m\"\u001b[39m\u001b[39mof the distribution \u001b[39m\u001b[39m{\u001b[39;00m\u001b[39mrepr\u001b[39m(\u001b[39mself\u001b[39m)\u001b[39m}\u001b[39;00m\u001b[39m, \u001b[39m\u001b[39m\"\u001b[39m\n\u001b[1;32m    321\u001b[0m         \u001b[39mf\u001b[39m\u001b[39m\"\u001b[39m\u001b[39mbut found invalid values:\u001b[39m\u001b[39m\\n\u001b[39;00m\u001b[39m{\u001b[39;00mvalue\u001b[39m}\u001b[39;00m\u001b[39m\"\u001b[39m\n\u001b[1;32m    322\u001b[0m     )\n",
      "\u001b[0;31mValueError\u001b[0m: Error while computing log_prob at site 'y':\nExpected value argument (Tensor of shape (970,)) to be within the support (Boolean()) of the distribution Bernoulli(logits: torch.Size([970])), but found invalid values:\ntensor([ 0.,  0.,  3., -1., -1.,  0., -1.,  0.,  1.,  0.,  0.,  0.,  0., -1.,\n        -1.,  0.,  0.,  0.,  0.,  0.,  0., -1.,  1.,  0.,  0.,  0.,  0.,  0.,\n         0.,  0.,  0.,  0.,  0.,  0.,  0.,  0.,  1.,  0.,  0.,  0.,  0.,  0.,\n         0.,  0.,  0.,  0.,  0., -1.,  0.,  1.,  0.,  0., -1.,  0.,  0.,  0.,\n         0.,  0., -1.,  0.,  1.,  0.,  0.,  0.,  0.,  0.,  0.,  0.,  0.,  0.,\n         1.,  0.,  0.,  0., -1.,  0.,  0.,  0., -1.,  0.,  0.,  3.,  1.,  0.,\n         0.,  0.,  1.,  1.,  0.,  0.,  0.,  0.,  1.,  0.,  0., -1.,  0.,  0.,\n         0.,  0.,  0.,  0.,  1.,  0., -1.,  0.,  0.,  2.,  0.,  0.,  0.,  0.,\n         1.,  0.,  0.,  0.,  0., -1.,  0.,  0.,  0.,  0.,  0.,  0.,  0.,  0.,\n         0.,  0.,  0.,  0.,  1.,  0.,  1.,  0.,  0.,  0.,  0.,  0.,  1., -1.,\n         0.,  0.,  0.,  1.,  0.,  0.,  0.,  0., -1.,  0.,  0.,  0.,  0.,  0.,\n         0.,  0.,  1.,  0., -1., -1.,  0.,  0.,  0.,  0.,  0., -2.,  0.,  0.,\n         0.,  0., -1.,  0.,  0.,  0., -1.,  0.,  0., -1.,  1.,  0., -1.,  0.,\n         0.,  0.,  1.,  1.,  0.,  0.,  0., -1., -1.,  0.,  2.,  0.,  0., -1.,\n         0.,  0., -1., -2.,  0.,  0.,  0.,  1.,  0., -1.,  1.,  0.,  0.,  0.,\n         0.,  1.,  0.,  0.,  0.,  0.,  0.,  0.,  3.,  0.,  0.,  0.,  0.,  0.,\n         0., -1.,  0.,  0.,  1.,  0.,  0.,  0., -1.,  0.,  0., -1.,  0.,  0.,\n         0., -1.,  0.,  2.,  0.,  0.,  0.,  0.,  0.,  0., -1.,  1.,  0.,  2.,\n         0.,  0.,  0.,  0.,  0.,  0.,  0.,  0.,  0.,  0.,  1.,  0.,  1.,  0.,\n         0.,  1.,  0.,  1.,  0.,  1., -1.,  0.,  0.,  1.,  1.,  0.,  0.,  0.,\n         0.,  1., -1.,  0.,  0.,  0.,  1.,  0., -1.,  1., -1., -1., -1.,  0.,\n         0., -1.,  0.,  0., -1.,  3.,  0.,  0.,  0., -1.,  0.,  0.,  0.,  0.,\n         5.,  0.,  0.,  0.,  0.,  0.,  0.,  0.,  0.,  0., -1.,  1.,  0., -2.,\n         0.,  0., -1.,  0.,  0.,  0.,  0.,  0.,  0.,  0.,  0.,  0.,  0.,  0.,\n        -1.,  2.,  0., -1.,  0.,  1.,  0.,  0.,  0., -1.,  0.,  0.,  1.,  0.,\n         0.,  0.,  1.,  0.,  0.,  0.,  0.,  0.,  0.,  0.,  0.,  2.,  0.,  0.,\n         0.,  0.,  2.,  0., -1.,  0.,  0.,  0.,  0.,  1.,  0.,  0.,  0.,  0.,\n         1.,  0.,  0., -1.,  0.,  2.,  0.,  0.,  0.,  0.,  0.,  1.,  0., -1.,\n         0.,  0.,  1., -1.,  0., -1.,  1.,  0.,  0., -1.,  0.,  0.,  0.,  0.,\n        -1.,  0., -1., -1., -1.,  0.,  0.,  4.,  0.,  0.,  0.,  0.,  0.,  0.,\n         0.,  1.,  0.,  0.,  0.,  0.,  0.,  0.,  0., -1., -1.,  0.,  0.,  0.,\n         0.,  0.,  1.,  1., -1.,  1.,  0.,  0.,  0.,  0.,  1.,  0.,  0., -1.,\n         0.,  0.,  1.,  0.,  0.,  0.,  0., -1.,  0.,  0.,  0.,  0.,  0.,  3.,\n        -1.,  0.,  0.,  0.,  0.,  0.,  0., -1.,  0.,  0., -1.,  0.,  0.,  0.,\n         0.,  0.,  1.,  0.,  1.,  0.,  0.,  0.,  0.,  0.,  0.,  0.,  1.,  0.,\n         0.,  0.,  0.,  0.,  0.,  0.,  1.,  0.,  0.,  0.,  0.,  1.,  0.,  0.,\n         0., -1.,  0.,  0.,  0.,  0.,  0.,  0.,  0., -1.,  0., -1.,  0., -1.,\n         0.,  0.,  0.,  0.,  0., -1.,  0.,  0., -1.,  1.,  0.,  1.,  0.,  0.,\n         0.,  1.,  0.,  0., -2.,  0., -1., -2.,  1.,  0.,  0.,  1.,  0.,  1.,\n         0.,  0.,  0.,  3.,  0.,  0.,  0.,  0.,  0.,  0.,  0.,  0.,  0.,  0.,\n         1.,  0.,  0.,  0.,  0.,  0.,  0.,  1.,  0.,  0., -1.,  0.,  0.,  0.,\n        -1.,  0.,  1.,  0.,  1.,  0.,  0.,  0.,  0.,  0.,  0.,  0.,  0.,  0.,\n         1.,  0.,  0.,  0.,  0.,  0.,  1.,  0.,  0.,  3.,  1.,  0.,  0.,  0.,\n         0.,  0.,  0., -1., -1.,  0.,  1.,  0.,  0.,  0.,  0.,  0., -1., -1.,\n         0.,  0.,  2.,  0.,  0.,  0.,  0.,  0.,  0.,  0.,  0.,  0.,  0.,  0.,\n         0.,  0.,  0., -1.,  0.,  1.,  0.,  0.,  0.,  0., -1.,  0.,  0., -1.,\n         0.,  0.,  0.,  0.,  0.,  0.,  0.,  0.,  0.,  0.,  0.,  0., -1., -1.,\n         0.,  0.,  0.,  0.,  0.,  0.,  3.,  0.,  0.,  0.,  0.,  0.,  0.,  0.,\n        -1.,  0.,  0.,  0.,  0., -1.,  0.,  0.,  1.,  0., -1., -1.,  0.,  0.,\n         0., -1.,  0.,  0.,  0.,  0.,  0.,  0., -1.,  0.,  0.,  0.,  1.,  0.,\n         0.,  0.,  3.,  0.,  0.,  2.,  0.,  0.,  0.,  1.,  0.,  0.,  1.,  0.,\n         1.,  0.,  0., -1.,  3.,  3.,  0.,  0., -1.,  0.,  0., -1.,  0.,  0.,\n         0.,  0.,  0.,  1.,  0.,  0.,  0., -1.,  0.,  0.,  0.,  1.,  0.,  0.,\n         0.,  0.,  0.,  0.,  0., -1.,  0.,  0.,  0.,  1.,  0.,  0.,  0.,  0.,\n         0.,  0., -1.,  0.,  1.,  0.,  0.,  0.,  0.,  0.,  0., -1.,  0., -1.,\n         0.,  0.,  0., -1.,  0.,  0.,  0.,  0.,  0.,  0.,  0.,  0.,  0.,  0.,\n         0.,  0., -2.,  0.,  0.,  1.,  0.,  0.,  0.,  1.,  0.,  0.,  0.,  1.,\n         0.,  0.,  0.,  0.,  0.,  0., -1.,  0.,  1.,  0.,  1.,  1.,  1.,  0.,\n         0.,  0.,  0.,  0.,  0.,  0.,  0.,  0.,  0.,  0.,  0.,  0.,  0., -1.,\n        -1.,  0.,  0.,  0.,  0.,  0.,  0.,  0.,  3.,  0., -1.,  1.,  0.,  1.,\n         0.,  0.,  0.,  1., -1.,  0.,  0.,  0.,  0.,  0.,  0.,  0.,  0.,  0.,\n         0.,  0.,  0.,  0.,  1.,  0.,  0.,  0.,  0.,  0.,  0.,  0.,  0.,  0.,\n         0.,  0.,  1.,  0.,  0.,  0.,  0.,  0.,  0.,  0., -1., -1.,  0.,  0.,\n         0.,  0.,  0.,  0.,  0.,  0.,  0.,  0.,  0.,  0.,  0.,  0.,  0., -1.,\n         0.,  0.,  0., -1.,  0.,  0., -1.,  0.,  0.,  0., -1.,  0.,  0.,  0.,\n         0.,  0.,  0.,  0.,  1., -1.,  0.,  0.,  0.,  0.,  0., -1., -1.,  0.,\n         1.,  0.,  0., -1.,  0.,  0.,  0.,  1.,  0.,  0.,  0.,  0.,  0.,  0.,\n        -1., -1., -1.,  0.,  1., -1.,  0., -1.,  0.,  0.,  0.,  0.,  1.,  2.,\n         0.,  0.,  0.,  1., -1.,  0.,  3.,  0., -1.,  0.,  0.,  0., -1.,  0.,\n         0.,  2.,  1.,  0.])\n Trace Shapes:          \n  Param Sites:          \n Sample Sites:          \n     beta dist     | 4 1\n         value     | 4 1\n      log_prob     |    \nintercept dist     |    \n         value     |    \n      log_prob     |    \n        y dist 970 |    \n         value 970 |    "
     ]
    }
   ],
   "source": [
    "## binary logistic regression, using PPCA data set\n",
    "palette = itertools.cycle(sns.color_palette())\n",
    "\n",
    "np.random.seed(42) # fix random generator seed (for reproducibility of results)\n",
    "\n",
    "reduced_data = reduced_df\n",
    "\n",
    "X = reduced_data.iloc[:, :4].values\n",
    "y = reduced_data.iloc[:, 4].astype(int).values\n",
    "print(\"Unique values in y (before training):\", np.unique(y))\n",
    "print(\"Any non-binary y values?\", np.any((y != 0) & (y != 1)))\n",
    "ind = y.copy()\n",
    "\n",
    "print(\"X shape:\", X.shape)\n",
    "print(\"y shape:\", y.shape)\n",
    "print(\"ind shape:\", ind.shape)\n",
    "\n",
    "train_perc = 0.66 # percentage of training data\n",
    "split_point = int(train_perc*len(y))\n",
    "perm = np.random.permutation(len(y)) # we also randomize the dataset\n",
    "ix_train = perm[:split_point]\n",
    "ix_test = perm[split_point:]\n",
    "X_train = X[ix_train,:]\n",
    "X_test = X[ix_test,:]\n",
    "y_train = y[ix_train]\n",
    "y_test = y[ix_test]\n",
    "print(\"num train: %d\" % len(y_train))\n",
    "print(\"num test: %d\" % len(y_test))\n",
    "\n",
    "epsilon = 1e-6\n",
    "p = y_train.mean().item()\n",
    "p = np.clip(p, epsilon, 1 - epsilon)\n",
    "log_odds = np.log(p / (1 - p))\n",
    "\n",
    "# Model definition\n",
    "def model(X, n_cat, y=None):\n",
    "    n_features = X.shape[1]\n",
    "\n",
    "    beta = pyro.sample(\"beta\", dist.Normal(0., 1.).expand([n_features, 1]).to_event(2)) # Priors\n",
    "    intercept = pyro.sample(\"intercept\", dist.Normal(log_odds, 1.0)) # Intercept prior guided by class balance\n",
    "    logits = X @ beta + intercept  # shape: (N, 1), input features to the bernouli\n",
    "\n",
    "    with pyro.plate(\"data\", X.shape[0]):\n",
    "        y = pyro.sample(\"y\", dist.Bernoulli(logits=logits.squeeze(-1)), obs=y)\n",
    "    \n",
    "    return y\n",
    "\n",
    "X_train = torch.tensor(X_train).float()\n",
    "y_train = torch.tensor(y_train).float()\n",
    "X_test = torch.tensor(X_test).float()\n",
    "y_test = torch.tensor(y_test).float()\n",
    "\n",
    "prior_pred = Predictive(model, num_samples=1000)\n",
    "prior_samples = prior_pred(X_test, n_cat=None, y=None)\n",
    "logits_prior = X_test @ prior_samples[\"beta\"].mean(0) + prior_samples[\"intercept\"].mean()\n",
    "probs_prior = torch.sigmoid(logits_prior)\n",
    "\n",
    "plt.hist(probs_prior.detach().numpy().flatten(), bins=30, alpha=0.7)\n",
    "plt.title(\"Prior Predictive Distribution of Attrition Probability\")\n",
    "plt.xlabel(\"Predicted Probability\")\n",
    "plt.ylabel(\"Frequency\")\n",
    "plt.grid(True)\n",
    "plt.show()\n",
    "\n",
    "# Clear previous state\n",
    "pyro.clear_param_store()\n",
    "\n",
    "# Define guide\n",
    "guide = AutoNormal(model)\n",
    "\n",
    "# Optimizer and ELBO\n",
    "optimizer = ClippedAdam({\"lr\": 0.001})\n",
    "elbo = Trace_ELBO()\n",
    "svi = SVI(model, guide, optimizer, loss=elbo)\n",
    "\n",
    "# Training loop\n",
    "n_steps = 40000\n",
    "for step in range(n_steps):\n",
    "    loss = svi.step(X_train, n_cat=None, y=y_train.float())\n",
    "    if step % 1000 == 0:\n",
    "        print(f\"[Step {step}] ELBO: {loss:.2f}\")\n",
    "\n",
    "predictive = Predictive(model, guide=guide, num_samples=1000, return_sites=(\"beta\",))\n",
    "samples = predictive(X_test, n_cat=None, y=None)  # no y because we want predictions\n",
    "\n",
    "beta_samples = samples[\"beta\"].detach().squeeze()  # shape: (1000, D)\n",
    "print(\"beta_samples shape:\", beta_samples.shape)\n",
    "\n",
    "beta_mean = beta_samples.mean(0)  # shape: (D,)\n",
    "\n",
    "logits_test = X_test @ beta_mean\n",
    "probs_test = torch.sigmoid(logits_test)\n",
    "y_pred = (probs_test > 0.5).int()\n",
    "\n",
    "accuracy = (y_pred == y_test.int()).float().mean()\n",
    "print(f\"Test Accuracy: {accuracy:.3f}\")\n",
    "\n",
    "cm = confusion_matrix(y_test.numpy(), y_pred.numpy())\n",
    "disp = ConfusionMatrixDisplay(confusion_matrix=cm, display_labels=[\"No Attrition\", \"Attrition\"])\n",
    "disp.plot(cmap='Blues')\n",
    "plt.title(\"Confusion Matrix (AutoNormal)\")\n",
    "plt.show()"
   ]
  },
  {
   "cell_type": "markdown",
   "metadata": {},
   "source": [
    "# COMBINED"
   ]
  },
  {
   "cell_type": "code",
   "execution_count": 16,
   "metadata": {},
   "outputs": [
    {
     "ename": "ValueError",
     "evalue": "invalid literal for int() with base 10: 'Yes'",
     "output_type": "error",
     "traceback": [
      "\u001b[0;31m---------------------------------------------------------------------------\u001b[0m",
      "\u001b[0;31mValueError\u001b[0m                                Traceback (most recent call last)",
      "\u001b[1;32m/Users/paulagranlund/Documents/GitHub/pgm_binary_log_reg/notebook.ipynb Cell 23\u001b[0m line \u001b[0;36m1\n\u001b[1;32m      <a href='vscode-notebook-cell:/Users/paulagranlund/Documents/GitHub/pgm_binary_log_reg/notebook.ipynb#X31sZmlsZQ%3D%3D?line=4'>5</a>\u001b[0m df \u001b[39m=\u001b[39m df\u001b[39m.\u001b[39mdrop(columns\u001b[39m=\u001b[39m[\n\u001b[1;32m      <a href='vscode-notebook-cell:/Users/paulagranlund/Documents/GitHub/pgm_binary_log_reg/notebook.ipynb#X31sZmlsZQ%3D%3D?line=5'>6</a>\u001b[0m     \u001b[39m\"\u001b[39m\u001b[39mMonthlyIncome\u001b[39m\u001b[39m\"\u001b[39m,\n\u001b[1;32m      <a href='vscode-notebook-cell:/Users/paulagranlund/Documents/GitHub/pgm_binary_log_reg/notebook.ipynb#X31sZmlsZQ%3D%3D?line=6'>7</a>\u001b[0m     \u001b[39m\"\u001b[39m\u001b[39mTotalWorkingYears\u001b[39m\u001b[39m\"\u001b[39m,\n\u001b[0;32m   (...)\u001b[0m\n\u001b[1;32m     <a href='vscode-notebook-cell:/Users/paulagranlund/Documents/GitHub/pgm_binary_log_reg/notebook.ipynb#X31sZmlsZQ%3D%3D?line=11'>12</a>\u001b[0m     \u001b[39m\"\u001b[39m\u001b[39mDepartment_Sales\u001b[39m\u001b[39m\"\u001b[39m\n\u001b[1;32m     <a href='vscode-notebook-cell:/Users/paulagranlund/Documents/GitHub/pgm_binary_log_reg/notebook.ipynb#X31sZmlsZQ%3D%3D?line=12'>13</a>\u001b[0m ])\n\u001b[1;32m     <a href='vscode-notebook-cell:/Users/paulagranlund/Documents/GitHub/pgm_binary_log_reg/notebook.ipynb#X31sZmlsZQ%3D%3D?line=14'>15</a>\u001b[0m \u001b[39m# Target\u001b[39;00m\n\u001b[0;32m---> <a href='vscode-notebook-cell:/Users/paulagranlund/Documents/GitHub/pgm_binary_log_reg/notebook.ipynb#X31sZmlsZQ%3D%3D?line=15'>16</a>\u001b[0m target \u001b[39m=\u001b[39m df[\u001b[39m\"\u001b[39;49m\u001b[39mAttrition\u001b[39;49m\u001b[39m\"\u001b[39;49m]\u001b[39m.\u001b[39;49mastype(\u001b[39mint\u001b[39;49m)\u001b[39m.\u001b[39mvalues\n\u001b[1;32m     <a href='vscode-notebook-cell:/Users/paulagranlund/Documents/GitHub/pgm_binary_log_reg/notebook.ipynb#X31sZmlsZQ%3D%3D?line=16'>17</a>\u001b[0m df \u001b[39m=\u001b[39m df\u001b[39m.\u001b[39mdrop(columns\u001b[39m=\u001b[39m[\u001b[39m\"\u001b[39m\u001b[39mAttrition\u001b[39m\u001b[39m\"\u001b[39m])\n\u001b[1;32m     <a href='vscode-notebook-cell:/Users/paulagranlund/Documents/GitHub/pgm_binary_log_reg/notebook.ipynb#X31sZmlsZQ%3D%3D?line=18'>19</a>\u001b[0m \u001b[39m# Standardize safely\u001b[39;00m\n",
      "File \u001b[0;32m~/Library/Python/3.9/lib/python/site-packages/pandas/core/generic.py:6643\u001b[0m, in \u001b[0;36mNDFrame.astype\u001b[0;34m(self, dtype, copy, errors)\u001b[0m\n\u001b[1;32m   6637\u001b[0m     results \u001b[39m=\u001b[39m [\n\u001b[1;32m   6638\u001b[0m         ser\u001b[39m.\u001b[39mastype(dtype, copy\u001b[39m=\u001b[39mcopy, errors\u001b[39m=\u001b[39merrors) \u001b[39mfor\u001b[39;00m _, ser \u001b[39min\u001b[39;00m \u001b[39mself\u001b[39m\u001b[39m.\u001b[39mitems()\n\u001b[1;32m   6639\u001b[0m     ]\n\u001b[1;32m   6641\u001b[0m \u001b[39melse\u001b[39;00m:\n\u001b[1;32m   6642\u001b[0m     \u001b[39m# else, only a single dtype is given\u001b[39;00m\n\u001b[0;32m-> 6643\u001b[0m     new_data \u001b[39m=\u001b[39m \u001b[39mself\u001b[39;49m\u001b[39m.\u001b[39;49m_mgr\u001b[39m.\u001b[39;49mastype(dtype\u001b[39m=\u001b[39;49mdtype, copy\u001b[39m=\u001b[39;49mcopy, errors\u001b[39m=\u001b[39;49merrors)\n\u001b[1;32m   6644\u001b[0m     res \u001b[39m=\u001b[39m \u001b[39mself\u001b[39m\u001b[39m.\u001b[39m_constructor_from_mgr(new_data, axes\u001b[39m=\u001b[39mnew_data\u001b[39m.\u001b[39maxes)\n\u001b[1;32m   6645\u001b[0m     \u001b[39mreturn\u001b[39;00m res\u001b[39m.\u001b[39m__finalize__(\u001b[39mself\u001b[39m, method\u001b[39m=\u001b[39m\u001b[39m\"\u001b[39m\u001b[39mastype\u001b[39m\u001b[39m\"\u001b[39m)\n",
      "File \u001b[0;32m~/Library/Python/3.9/lib/python/site-packages/pandas/core/internals/managers.py:430\u001b[0m, in \u001b[0;36mBaseBlockManager.astype\u001b[0;34m(self, dtype, copy, errors)\u001b[0m\n\u001b[1;32m    427\u001b[0m \u001b[39melif\u001b[39;00m using_copy_on_write():\n\u001b[1;32m    428\u001b[0m     copy \u001b[39m=\u001b[39m \u001b[39mFalse\u001b[39;00m\n\u001b[0;32m--> 430\u001b[0m \u001b[39mreturn\u001b[39;00m \u001b[39mself\u001b[39;49m\u001b[39m.\u001b[39;49mapply(\n\u001b[1;32m    431\u001b[0m     \u001b[39m\"\u001b[39;49m\u001b[39mastype\u001b[39;49m\u001b[39m\"\u001b[39;49m,\n\u001b[1;32m    432\u001b[0m     dtype\u001b[39m=\u001b[39;49mdtype,\n\u001b[1;32m    433\u001b[0m     copy\u001b[39m=\u001b[39;49mcopy,\n\u001b[1;32m    434\u001b[0m     errors\u001b[39m=\u001b[39;49merrors,\n\u001b[1;32m    435\u001b[0m     using_cow\u001b[39m=\u001b[39;49musing_copy_on_write(),\n\u001b[1;32m    436\u001b[0m )\n",
      "File \u001b[0;32m~/Library/Python/3.9/lib/python/site-packages/pandas/core/internals/managers.py:363\u001b[0m, in \u001b[0;36mBaseBlockManager.apply\u001b[0;34m(self, f, align_keys, **kwargs)\u001b[0m\n\u001b[1;32m    361\u001b[0m         applied \u001b[39m=\u001b[39m b\u001b[39m.\u001b[39mapply(f, \u001b[39m*\u001b[39m\u001b[39m*\u001b[39mkwargs)\n\u001b[1;32m    362\u001b[0m     \u001b[39melse\u001b[39;00m:\n\u001b[0;32m--> 363\u001b[0m         applied \u001b[39m=\u001b[39m \u001b[39mgetattr\u001b[39;49m(b, f)(\u001b[39m*\u001b[39;49m\u001b[39m*\u001b[39;49mkwargs)\n\u001b[1;32m    364\u001b[0m     result_blocks \u001b[39m=\u001b[39m extend_blocks(applied, result_blocks)\n\u001b[1;32m    366\u001b[0m out \u001b[39m=\u001b[39m \u001b[39mtype\u001b[39m(\u001b[39mself\u001b[39m)\u001b[39m.\u001b[39mfrom_blocks(result_blocks, \u001b[39mself\u001b[39m\u001b[39m.\u001b[39maxes)\n",
      "File \u001b[0;32m~/Library/Python/3.9/lib/python/site-packages/pandas/core/internals/blocks.py:758\u001b[0m, in \u001b[0;36mBlock.astype\u001b[0;34m(self, dtype, copy, errors, using_cow, squeeze)\u001b[0m\n\u001b[1;32m    755\u001b[0m         \u001b[39mraise\u001b[39;00m \u001b[39mValueError\u001b[39;00m(\u001b[39m\"\u001b[39m\u001b[39mCan not squeeze with more than one column.\u001b[39m\u001b[39m\"\u001b[39m)\n\u001b[1;32m    756\u001b[0m     values \u001b[39m=\u001b[39m values[\u001b[39m0\u001b[39m, :]  \u001b[39m# type: ignore[call-overload]\u001b[39;00m\n\u001b[0;32m--> 758\u001b[0m new_values \u001b[39m=\u001b[39m astype_array_safe(values, dtype, copy\u001b[39m=\u001b[39;49mcopy, errors\u001b[39m=\u001b[39;49merrors)\n\u001b[1;32m    760\u001b[0m new_values \u001b[39m=\u001b[39m maybe_coerce_values(new_values)\n\u001b[1;32m    762\u001b[0m refs \u001b[39m=\u001b[39m \u001b[39mNone\u001b[39;00m\n",
      "File \u001b[0;32m~/Library/Python/3.9/lib/python/site-packages/pandas/core/dtypes/astype.py:237\u001b[0m, in \u001b[0;36mastype_array_safe\u001b[0;34m(values, dtype, copy, errors)\u001b[0m\n\u001b[1;32m    234\u001b[0m     dtype \u001b[39m=\u001b[39m dtype\u001b[39m.\u001b[39mnumpy_dtype\n\u001b[1;32m    236\u001b[0m \u001b[39mtry\u001b[39;00m:\n\u001b[0;32m--> 237\u001b[0m     new_values \u001b[39m=\u001b[39m astype_array(values, dtype, copy\u001b[39m=\u001b[39;49mcopy)\n\u001b[1;32m    238\u001b[0m \u001b[39mexcept\u001b[39;00m (\u001b[39mValueError\u001b[39;00m, \u001b[39mTypeError\u001b[39;00m):\n\u001b[1;32m    239\u001b[0m     \u001b[39m# e.g. _astype_nansafe can fail on object-dtype of strings\u001b[39;00m\n\u001b[1;32m    240\u001b[0m     \u001b[39m#  trying to convert to float\u001b[39;00m\n\u001b[1;32m    241\u001b[0m     \u001b[39mif\u001b[39;00m errors \u001b[39m==\u001b[39m \u001b[39m\"\u001b[39m\u001b[39mignore\u001b[39m\u001b[39m\"\u001b[39m:\n",
      "File \u001b[0;32m~/Library/Python/3.9/lib/python/site-packages/pandas/core/dtypes/astype.py:182\u001b[0m, in \u001b[0;36mastype_array\u001b[0;34m(values, dtype, copy)\u001b[0m\n\u001b[1;32m    179\u001b[0m     values \u001b[39m=\u001b[39m values\u001b[39m.\u001b[39mastype(dtype, copy\u001b[39m=\u001b[39mcopy)\n\u001b[1;32m    181\u001b[0m \u001b[39melse\u001b[39;00m:\n\u001b[0;32m--> 182\u001b[0m     values \u001b[39m=\u001b[39m _astype_nansafe(values, dtype, copy\u001b[39m=\u001b[39;49mcopy)\n\u001b[1;32m    184\u001b[0m \u001b[39m# in pandas we don't store numpy str dtypes, so convert to object\u001b[39;00m\n\u001b[1;32m    185\u001b[0m \u001b[39mif\u001b[39;00m \u001b[39misinstance\u001b[39m(dtype, np\u001b[39m.\u001b[39mdtype) \u001b[39mand\u001b[39;00m \u001b[39missubclass\u001b[39m(values\u001b[39m.\u001b[39mdtype\u001b[39m.\u001b[39mtype, \u001b[39mstr\u001b[39m):\n",
      "File \u001b[0;32m~/Library/Python/3.9/lib/python/site-packages/pandas/core/dtypes/astype.py:133\u001b[0m, in \u001b[0;36m_astype_nansafe\u001b[0;34m(arr, dtype, copy, skipna)\u001b[0m\n\u001b[1;32m    129\u001b[0m     \u001b[39mraise\u001b[39;00m \u001b[39mValueError\u001b[39;00m(msg)\n\u001b[1;32m    131\u001b[0m \u001b[39mif\u001b[39;00m copy \u001b[39mor\u001b[39;00m arr\u001b[39m.\u001b[39mdtype \u001b[39m==\u001b[39m \u001b[39mobject\u001b[39m \u001b[39mor\u001b[39;00m dtype \u001b[39m==\u001b[39m \u001b[39mobject\u001b[39m:\n\u001b[1;32m    132\u001b[0m     \u001b[39m# Explicit copy, or required since NumPy can't view from / to object.\u001b[39;00m\n\u001b[0;32m--> 133\u001b[0m     \u001b[39mreturn\u001b[39;00m arr\u001b[39m.\u001b[39;49mastype(dtype, copy\u001b[39m=\u001b[39;49m\u001b[39mTrue\u001b[39;49;00m)\n\u001b[1;32m    135\u001b[0m \u001b[39mreturn\u001b[39;00m arr\u001b[39m.\u001b[39mastype(dtype, copy\u001b[39m=\u001b[39mcopy)\n",
      "\u001b[0;31mValueError\u001b[0m: invalid literal for int() with base 10: 'Yes'"
     ]
    }
   ],
   "source": [
    "np.random.seed(42)\n",
    "\n",
    "# Load dataset\n",
    "df = pd.read_csv(\"data/data_processed.csv\")\n",
    "df = df.drop(columns=[\n",
    "    \"MonthlyIncome\",\n",
    "    \"TotalWorkingYears\",\n",
    "    \"PerformanceRating\",\n",
    "    \"YearsInCurrentRole\",\n",
    "    \"YearsWithCurrManager\",\n",
    "    \"Department_Human Resources\",\n",
    "    \"Department_Sales\"\n",
    "])\n",
    "\n",
    "# Target\n",
    "target = df[\"Attrition\"].astype(int).values\n",
    "df = df.drop(columns=[\"Attrition\"])\n",
    "\n",
    "# Standardize safely\n",
    "X_np = df.to_numpy()\n",
    "X_mean = np.nanmean(X_np, axis=0)\n",
    "X_std = np.nanstd(X_np, axis=0)\n",
    "X_std[X_std == 0] = 1.0\n",
    "X_np = (X_np - X_mean) / X_std\n",
    "X_np = np.nan_to_num(X_np, nan=0.0, posinf=0.0, neginf=0.0)\n",
    "\n",
    "# Split the data\n",
    "X_train_np, X_test_np, y_train_np, y_test_np = train_test_split(X_np, target, train_size=0.66, random_state=42)\n",
    "\n",
    "X_train = torch.tensor(X_train_np, dtype=torch.float32)\n",
    "y_train = torch.tensor(y_train_np, dtype=torch.float32)\n",
    "X_test = torch.tensor(X_test_np, dtype=torch.float32)\n",
    "y_test = torch.tensor(y_test_np, dtype=torch.float32)\n",
    "\n",
    "N_train, D = X_train.shape\n",
    "latent_dim = 4  # Known from running PPCA seperatelt\n",
    "\n",
    "print(f\"X_train shape: {X_train.shape}, y_train shape: {y_train.shape}\")\n",
    "\n",
    "def combined_ppca_blr_model(X, y=None):\n",
    "    N, D = X.shape\n",
    "    \n",
    "    # PPCA parameters\n",
    "    W = pyro.sample(\"W\", dist.Normal(0, 1).expand([D, latent_dim]).to_event(2))\n",
    "    sigma = pyro.sample(\"sigma\", dist.HalfCauchy(1))\n",
    "    \n",
    "    # Logistic regression parameters\n",
    "    beta = pyro.sample(\"beta\", dist.Normal(0., 1.).expand([latent_dim]).to_event(1))\n",
    "    intercept = pyro.sample(\"intercept\", dist.Normal(0., 1.))\n",
    "    \n",
    "    with pyro.plate(\"data\", N):\n",
    "        z = pyro.sample(\"z\", dist.Normal(0, 1).expand([latent_dim]).to_event(1))\n",
    "        \n",
    "        # Generate X\n",
    "        loc = torch.matmul(z, W.mT)\n",
    "        pyro.sample(\"obs_X\", dist.Normal(loc, sigma).to_event(1), obs=X)\n",
    "        \n",
    "        # Generate y\n",
    "        logits = (z * beta).sum(-1) + intercept\n",
    "        pyro.sample(\"obs_y\", dist.Bernoulli(logits=logits), obs=y)\n",
    "\n",
    "def ppca_encoder(X, W, sigma):\n",
    "    D, latent_dim = W.shape\n",
    "    N = X.shape[0]\n",
    "    WtW = W.T @ W\n",
    "    cov_z_inv = WtW + sigma**2 * torch.eye(latent_dim)\n",
    "    cov_z = torch.inverse(cov_z_inv)\n",
    "    z_mean = (cov_z @ W.T @ X.T).T\n",
    "    return z_mean\n",
    "\n",
    "pyro.clear_param_store()\n",
    "guide = AutoNormal(combined_ppca_blr_model)\n",
    "optimizer = Adam({\"lr\": 0.01})\n",
    "svi = SVI(combined_ppca_blr_model, guide, optimizer, loss=Trace_ELBO())\n",
    "\n",
    "num_steps = 10000\n",
    "for step in range(num_steps):\n",
    "    loss = svi.step(X_train, y_train)\n",
    "    if step % 1000 == 0:\n",
    "        print(f\"[Step {step}] ELBO: {loss:.2f}\")\n",
    "\n",
    "# Posterior inference using the guide (train set)\n",
    "posterior_samples = guide(X_train, y_train)\n",
    "W_mean = posterior_samples['W']\n",
    "sigma_mean = posterior_samples['sigma']\n",
    "beta_mean = posterior_samples['beta']\n",
    "intercept_mean = posterior_samples['intercept']\n",
    "\n",
    "# Use ppca_encoder for z_test\n",
    "z_test_encoded = ppca_encoder(X_test, W_mean, sigma_mean)\n",
    "\n",
    "# Predict on test set\n",
    "logits_test = (z_test_encoded * beta_mean).sum(-1) + intercept_mean\n",
    "probs_test = torch.sigmoid(logits_test)\n",
    "y_pred_test = (probs_test > 0.5).int()\n",
    "\n",
    "# Accuracy on test set\n",
    "accuracy_test = (y_pred_test == y_test.int()).float().mean()\n",
    "print(f\"Test Accuracy: {accuracy_test:.3f}\")\n",
    "\n",
    "# Confusion matrix for test set\n",
    "from sklearn.metrics import confusion_matrix, ConfusionMatrixDisplay\n",
    "cm = confusion_matrix(y_test.numpy(), y_pred_test.numpy())\n",
    "disp = ConfusionMatrixDisplay(confusion_matrix=cm, display_labels=[\"No Attrition\", \"Attrition\"])\n",
    "disp.plot(cmap='Blues')\n",
    "plt.title(\"Confusion Matrix (Test Set)\")\n",
    "plt.show()"
   ]
  }
 ],
 "metadata": {
  "kernelspec": {
   "display_name": "Python 3",
   "language": "python",
   "name": "python3"
  },
  "language_info": {
   "codemirror_mode": {
    "name": "ipython",
    "version": 3
   },
   "file_extension": ".py",
   "mimetype": "text/x-python",
   "name": "python",
   "nbconvert_exporter": "python",
   "pygments_lexer": "ipython3",
   "version": "3.9.6"
  },
  "orig_nbformat": 4
 },
 "nbformat": 4,
 "nbformat_minor": 2
}
